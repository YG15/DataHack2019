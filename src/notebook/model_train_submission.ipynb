{
  "nbformat": 4,
  "nbformat_minor": 0,
  "metadata": {
    "colab": {
      "name": "model_train_submission.ipynb",
      "version": "0.3.2",
      "provenance": [],
      "collapsed_sections": [],
      "machine_shape": "hm",
      "include_colab_link": true
    },
    "kernelspec": {
      "name": "python3",
      "display_name": "Python 3"
    }
  },
  "cells": [
    {
      "cell_type": "markdown",
      "metadata": {
        "id": "view-in-github",
        "colab_type": "text"
      },
      "source": [
        "<a href=\"https://colab.research.google.com/github/YG15/DataHack2019/blob/master/model_train_submission.ipynb\" target=\"_parent\"><img src=\"https://colab.research.google.com/assets/colab-badge.svg\" alt=\"Open In Colab\"/></a>"
      ]
    },
    {
      "cell_type": "code",
      "metadata": {
        "id": "PLI8cPkQ5J-h",
        "colab_type": "code",
        "colab": {}
      },
      "source": [
        "import sklearn as sk\n",
        "import matplotlib.pyplot as plt\n",
        "import json\n",
        "from urllib import request\n",
        "import random\n",
        "from sklearn.ensemble import IsolationForest\n",
        "from sklearn.preprocessing import StandardScaler\n",
        "from sklearn.model_selection import train_test_split\n",
        "from sklearn.preprocessing import OneHotEncoder\n",
        "from sklearn.decomposition import PCA"
      ],
      "execution_count": 0,
      "outputs": []
    },
    {
      "cell_type": "code",
      "metadata": {
        "id": "MUCQfklQAlhH",
        "colab_type": "code",
        "outputId": "e0cea78c-1369-4a7f-de25-0ba59f2c2a4a",
        "colab": {
          "base_uri": "https://localhost:8080/",
          "height": 122
        }
      },
      "source": [
        "import pandas as pd\n",
        "import numpy as np\n",
        "from google.colab import files\n",
        "from google.colab import drive\n",
        "drive.mount('/content/drive')"
      ],
      "execution_count": 3,
      "outputs": [
        {
          "output_type": "stream",
          "text": [
            "Go to this URL in a browser: https://accounts.google.com/o/oauth2/auth?client_id=947318989803-6bn6qk8qdgf4n4g3pfee6491hc0brc4i.apps.googleusercontent.com&redirect_uri=urn%3Aietf%3Awg%3Aoauth%3A2.0%3Aoob&scope=email%20https%3A%2F%2Fwww.googleapis.com%2Fauth%2Fdocs.test%20https%3A%2F%2Fwww.googleapis.com%2Fauth%2Fdrive%20https%3A%2F%2Fwww.googleapis.com%2Fauth%2Fdrive.photos.readonly%20https%3A%2F%2Fwww.googleapis.com%2Fauth%2Fpeopleapi.readonly&response_type=code\n",
            "\n",
            "Enter your authorization code:\n",
            "··········\n",
            "Mounted at /content/drive\n"
          ],
          "name": "stdout"
        }
      ]
    },
    {
      "cell_type": "code",
      "metadata": {
        "id": "n7ruULKjSS6u",
        "colab_type": "code",
        "colab": {}
      },
      "source": [
        "url = 'https://armis-datahack.s3.amazonaws.com/all_devices.csv'\n",
        "devices_df = pd.read_csv(url, index_col = 0)\n",
        "#devices_df.head()"
      ],
      "execution_count": 0,
      "outputs": []
    },
    {
      "cell_type": "code",
      "metadata": {
        "id": "iW4GTxWtZBz7",
        "colab_type": "code",
        "colab": {}
      },
      "source": [
        "final_df = pd.read_csv(r'drive/My Drive/only_session_Features_no_log.csv', index_col =0)"
      ],
      "execution_count": 0,
      "outputs": []
    },
    {
      "cell_type": "code",
      "metadata": {
        "id": "8QYY40a8a3GK",
        "colab_type": "code",
        "colab": {}
      },
      "source": [
        "# final_df = final_df.replace([np.inf, -np.inf], np.nan)\n",
        "# final_df = final_df.fillna(0)"
      ],
      "execution_count": 0,
      "outputs": []
    },
    {
      "cell_type": "code",
      "metadata": {
        "id": "kBzj_Eon5IvF",
        "colab_type": "code",
        "colab": {}
      },
      "source": [
        "from sklearn.mixture import GaussianMixture\n",
        "from pyod.models.knn import KNN\n",
        "\n",
        "def run_IF(df,ms=100, rs=1):\n",
        "    model = IsolationForest(behaviour = 'new', max_samples=ms, \n",
        "                          random_state = rs, contamination = 0)\n",
        "    model.fit(df)\n",
        "    anomaly_scores = model.decision_function(df)\n",
        "    \n",
        "    return anomaly_scores\n",
        "\n",
        "def run_KNN(df):\n",
        "  \n",
        "    clf = KNN()\n",
        "    clf.fit(X)\n",
        "    # get outlier scores\n",
        "    anomaly_scores = clf.decision_scores_ \n",
        "    return anomaly_scores"
      ],
      "execution_count": 0,
      "outputs": []
    },
    {
      "cell_type": "code",
      "metadata": {
        "id": "zVdSWr2R9QhM",
        "colab_type": "code",
        "colab": {}
      },
      "source": [
        "#find most varied features\n",
        "variety_df = pd.DataFrame(columns=['feature', 'max','min','std'],)\n",
        "for i,c in enumerate(df_gb.columns):\n",
        "  df2 =pd.DataFrame({'feature':c,'max':df_gb[c].max(),'min': df_gb[c].min(),'std':df_gb[c].std()}, index=[0])\n",
        "  variety_df = variety_df.append(df2, ignore_index=True)"
      ],
      "execution_count": 0,
      "outputs": []
    },
    {
      "cell_type": "code",
      "metadata": {
        "id": "zrLpvJloAWzk",
        "colab_type": "code",
        "colab": {}
      },
      "source": [
        "variety_df.sort_values('std', ascending=False)['feature'].values"
      ],
      "execution_count": 0,
      "outputs": []
    },
    {
      "cell_type": "code",
      "metadata": {
        "id": "p0r4xFSkVQ2F",
        "colab_type": "code",
        "colab": {}
      },
      "source": [
        "import random\n",
        "iterations =1000\n",
        "scores_list =[]\n",
        "selected_col = ['network_id',\n",
        "                'device_id',\n",
        "                'type_ip_camera',\n",
        "                'type_mobile_phone',\n",
        "                'type_pc',\n",
        "                'type_printer',\n",
        "                'type_tablet',\n",
        "                'type_voip',\n",
        "                'type_watch',\n",
        "                'host_ipnunique',\n",
        "                'port_dstnunique',\n",
        "                'timestampnunique',\n",
        "                'timestampcount',\n",
        "                'timestamprange',\n",
        "                'transport_protocolnunique',\n",
        "                'packets_countnanmax',\n",
        "                'packets_countnanmean',\n",
        "                'packets_countnanstd',\n",
        "                'outbound_bytes_countnanmax',\n",
        "                'outbound_bytes_countnanmean',\n",
        "                'inbound_bytes_countnanmax',\n",
        "                'inbound_bytes_countnanmean',\n",
        "                'retransmit_countnanmax',\n",
        "                'retransmit_countnanmean',\n",
        "                'retransmit_countnanstd',\n",
        "                'latencynanmax']\n",
        "test_df = final_df[selected_col].fillna(final_df.mean())\n",
        "\n",
        "for i in range(iterations):\n",
        "    col_number =random.randrange(len(test_df.columns)+1)\n",
        "    while col_number<3:\n",
        "      col_number = random.randrange(len(test_df.columns)+1)\n",
        "    print(i, col_number)\n",
        "    selected_col = list(set(random.sample(set(test_df.columns), col_number)+['network_id','device_id']))\n",
        "    df_features = test_df[selected_col]\n",
        "\n",
        "    X = df_features.copy()\n",
        "    X.drop(['device_id'], inplace=True, axis=1)\n",
        "\n",
        "    # Run model\n",
        "    sub_anomaly_scores = run_IF(X)\n",
        "    sub_anomaly_scores = -sub_anomaly_scores\n",
        "    scores_list.append(sub_anomaly_scores)\n",
        "\n",
        "anomaly_scores =list(np.mean(scores_list, axis=0))\n",
        "# Save results\n",
        "results = pd.DataFrame({'network_id' : df_features.network_id, 'device_id' : df_features.device_id,'confidence' : list(anomaly_scores)})"
      ],
      "execution_count": 0,
      "outputs": []
    },
    {
      "cell_type": "code",
      "metadata": {
        "id": "_AEhl2AMozwz",
        "colab_type": "code",
        "outputId": "f70cb500-a6a3-44e0-b1d6-fb1b7ad1a8e9",
        "colab": {
          "base_uri": "https://localhost:8080/",
          "height": 221
        }
      },
      "source": [
        "results = pd.DataFrame({'network_id' : df_features.network_id, 'device_id' : df_features.device_id,'confidence' : features_set[4]['prediction']})\n",
        "display(results.head())\n",
        "print(results.shape)"
      ],
      "execution_count": 175,
      "outputs": [
        {
          "output_type": "display_data",
          "data": {
            "text/html": [
              "<div>\n",
              "<style scoped>\n",
              "    .dataframe tbody tr th:only-of-type {\n",
              "        vertical-align: middle;\n",
              "    }\n",
              "\n",
              "    .dataframe tbody tr th {\n",
              "        vertical-align: top;\n",
              "    }\n",
              "\n",
              "    .dataframe thead th {\n",
              "        text-align: right;\n",
              "    }\n",
              "</style>\n",
              "<table border=\"1\" class=\"dataframe\">\n",
              "  <thead>\n",
              "    <tr style=\"text-align: right;\">\n",
              "      <th></th>\n",
              "      <th>network_id</th>\n",
              "      <th>device_id</th>\n",
              "      <th>confidence</th>\n",
              "    </tr>\n",
              "  </thead>\n",
              "  <tbody>\n",
              "    <tr>\n",
              "      <th>0</th>\n",
              "      <td>0</td>\n",
              "      <td>1028623</td>\n",
              "      <td>-0.422530</td>\n",
              "    </tr>\n",
              "    <tr>\n",
              "      <th>1</th>\n",
              "      <td>0</td>\n",
              "      <td>48047</td>\n",
              "      <td>-0.421168</td>\n",
              "    </tr>\n",
              "    <tr>\n",
              "      <th>2</th>\n",
              "      <td>0</td>\n",
              "      <td>123568</td>\n",
              "      <td>-0.420188</td>\n",
              "    </tr>\n",
              "    <tr>\n",
              "      <th>3</th>\n",
              "      <td>0</td>\n",
              "      <td>95366</td>\n",
              "      <td>-0.420829</td>\n",
              "    </tr>\n",
              "    <tr>\n",
              "      <th>4</th>\n",
              "      <td>0</td>\n",
              "      <td>1755023</td>\n",
              "      <td>-0.293364</td>\n",
              "    </tr>\n",
              "  </tbody>\n",
              "</table>\n",
              "</div>"
            ],
            "text/plain": [
              "   network_id  device_id  confidence\n",
              "0           0    1028623   -0.422530\n",
              "1           0      48047   -0.421168\n",
              "2           0     123568   -0.420188\n",
              "3           0      95366   -0.420829\n",
              "4           0    1755023   -0.293364"
            ]
          },
          "metadata": {
            "tags": []
          }
        },
        {
          "output_type": "stream",
          "text": [
            "(76038, 3)\n"
          ],
          "name": "stdout"
        }
      ]
    },
    {
      "cell_type": "code",
      "metadata": {
        "id": "LqM51L7gm4cK",
        "colab_type": "code",
        "outputId": "7830041a-709a-40af-912a-8a0842ccc30b",
        "colab": {
          "base_uri": "https://localhost:8080/",
          "height": 34
        }
      },
      "source": [
        "#%% Submission\n",
        "\n",
        "arr_to_submit = results.to_json(orient='values')\n",
        "\n",
        "leaderboard_name = \"armis\"\n",
        "host = \"leaderboard.datahack.org.il\"\n",
        "\n",
        "# Name of the user\n",
        "submitter = \"The Whale and the Petunias\"\n",
        "\n",
        "predictions = json.loads(arr_to_submit)\n",
        "\n",
        "jsonStr = json.dumps({'submitter': submitter, 'predictions': predictions})\n",
        "data = jsonStr.encode('utf-8')\n",
        "req = request.Request(f\"https://{host}/{leaderboard_name}/api/\",\n",
        "                      headers={'Content-Type': 'application/json'},\n",
        "                      data=data)\n",
        "resp = request.urlopen(req)\n",
        "print(json.load(resp))"
      ],
      "execution_count": 176,
      "outputs": [
        {
          "output_type": "stream",
          "text": [
            "{'member': 'The Whale and the Petunias', 'rank': 4, 'score': 0.8657974757950241}\n"
          ],
          "name": "stdout"
        }
      ]
    },
    {
      "cell_type": "code",
      "metadata": {
        "id": "RT6qZQtWm3L0",
        "colab_type": "code",
        "colab": {
          "base_uri": "https://localhost:8080/",
          "height": 357
        },
        "outputId": "c649f8ed-4fce-4531-84a8-6662310c539d"
      },
      "source": [
        "import random\n",
        "iterations =10\n",
        "features_set ={}\n",
        "\n",
        "selected_col = ['network_id',\n",
        "                'device_id',\n",
        "                'type_ip_camera',\n",
        "                'type_mobile_phone',\n",
        "                'type_pc',\n",
        "                'type_printer',\n",
        "                'type_tablet',\n",
        "                'type_voip',\n",
        "                'type_watch',\n",
        "                'host_ipnunique',\n",
        "                'port_dstnunique',\n",
        "                'timestampnunique',\n",
        "                'timestampcount',\n",
        "                'timestamprange',\n",
        "                'transport_protocolnunique',\n",
        "                'packets_countnanmax',\n",
        "                'packets_countnanmean',\n",
        "                'packets_countnanstd',\n",
        "                'outbound_bytes_countnanmax',\n",
        "                'outbound_bytes_countnanmean',\n",
        "                'inbound_bytes_countnanmax',\n",
        "                'inbound_bytes_countnanmean',\n",
        "                'retransmit_countnanmax',\n",
        "                'retransmit_countnanmean',\n",
        "                'retransmit_countnanstd',\n",
        "                'latencynanmax']\n",
        "test_df = final_df[selected_col].fillna(final_df.mean())\n",
        "for i in range(iterations):\n",
        "    features_set[i]={}\n",
        "    col_number = random.randrange(len(test_df.columns)+1)\n",
        "    print('Iteration {}, {} features'.format(i, col_number))\n",
        "    selected_col = list(set(random.sample(set(test_df.columns), col_number)+['network_id','device_id']))\n",
        "    features_set[i]['features'] = selected_col\n",
        "    df_features = test_df[selected_col]\n",
        "\n",
        "    X = df_features.copy()\n",
        "    X.drop(['device_id'], inplace=True, axis=1)\n",
        "\n",
        "    # Run model\n",
        "    anomaly_scores = run_IF(X)\n",
        "    anomaly_scores = -anomaly_scores\n",
        "    features_set[i]['prediction'] =anomaly_scores\n",
        "\n",
        "    results = pd.DataFrame({'network_id' : df_features.network_id, 'device_id' : df_features.device_id,'confidence' : list(anomaly_scores)})\n",
        "    arr_to_submit = results.to_json(orient='values')\n",
        "\n",
        "    leaderboard_name = \"armis\"\n",
        "    host = \"leaderboard.datahack.org.il\"\n",
        "\n",
        "    # Name of the user\n",
        "    submitter = \"The Whale and the Petunias\"\n",
        "\n",
        "    predictions = json.loads(arr_to_submit)\n",
        "\n",
        "    jsonStr = json.dumps({'submitter': submitter, 'predictions': predictions})\n",
        "    data = jsonStr.encode('utf-8')\n",
        "    req = request.Request(f\"https://{host}/{leaderboard_name}/api/\",\n",
        "                          headers={'Content-Type': 'application/json'},\n",
        "                          data=data)\n",
        "    resp = request.urlopen(req)\n",
        "    print(json.load(resp))\n",
        "    resp = request.urlopen(req)\n",
        "    score=(json.load(resp))\n",
        "    features_set[i]['score'] = score"
      ],
      "execution_count": 124,
      "outputs": [
        {
          "output_type": "stream",
          "text": [
            "Iteration 0, 4 features\n",
            "{'member': 'The Whale and the Petunias_draft_0', 'rank': 18, 'score': 0.830088057499539}\n",
            "Iteration 1, 14 features\n",
            "{'member': 'The Whale and the Petunias_draft_1', 'rank': 18, 'score': 0.8207414773975654}\n",
            "Iteration 2, 11 features\n",
            "{'member': 'The Whale and the Petunias_draft_2', 'rank': 17, 'score': 0.83044381902755}\n",
            "Iteration 3, 19 features\n",
            "{'member': 'The Whale and the Petunias_draft_3', 'rank': 20, 'score': 0.8143113512185732}\n",
            "Iteration 4, 18 features\n",
            "{'member': 'The Whale and the Petunias_draft_4', 'rank': 8, 'score': 0.8657974757950241}\n",
            "Iteration 5, 11 features\n",
            "{'member': 'The Whale and the Petunias_draft_5', 'rank': 10, 'score': 0.8526342647844835}\n",
            "Iteration 6, 11 features\n",
            "{'member': 'The Whale and the Petunias_draft_6', 'rank': 21, 'score': 0.8152956565722124}\n",
            "Iteration 7, 0 features\n",
            "{'member': 'The Whale and the Petunias_draft_7', 'rank': 58, 'score': 0.571054812763187}\n",
            "Iteration 8, 2 features\n",
            "{'member': 'The Whale and the Petunias_draft_8', 'rank': 21, 'score': 0.815831476480094}\n",
            "Iteration 9, 17 features\n",
            "{'member': 'The Whale and the Petunias_draft_9', 'rank': 17, 'score': 0.8330432488530227}\n"
          ],
          "name": "stdout"
        }
      ]
    },
    {
      "cell_type": "code",
      "metadata": {
        "id": "5sTk5pDSnEUy",
        "colab_type": "code",
        "colab": {}
      },
      "source": [
        "features_set[5]['features']"
      ],
      "execution_count": 0,
      "outputs": []
    },
    {
      "cell_type": "code",
      "metadata": {
        "id": "noCDo-VD01Qs",
        "colab_type": "code",
        "colab": {
          "base_uri": "https://localhost:8080/",
          "height": 34
        },
        "outputId": "23e5fabd-9b48-486c-acf1-8850f11aa4fe"
      },
      "source": [
        "selected_col = ['network_id',\n",
        "                'device_id',\n",
        "                'host_ipnunique',\n",
        "                'outbound_bytes_countnanmax',\n",
        "                'timestampcount',\n",
        "                'timestampnunique',\n",
        "                'timestamprange',\n",
        "                'transport_protocolnunique',\n",
        "                'port_dstnunique']\n",
        "df_features = final_df[selected_col].fillna(final_df.mean())\n",
        "\n",
        "X = df_features.copy()\n",
        "X.drop(['device_id'], inplace=True, axis=1)\n",
        "\n",
        "# Run model\n",
        "anomaly_scores = run_IF(X,ms=1024, rs=42)\n",
        "anomaly_scores = -anomaly_scores\n",
        "\n",
        "results = pd.DataFrame({'network_id' : df_features.network_id, 'device_id' : df_features.device_id,'confidence' : anomaly_scores})\n",
        "arr_to_submit = results.to_json(orient='values')\n",
        "\n",
        "leaderboard_name = \"armis\"\n",
        "host = \"leaderboard.datahack.org.il\"\n",
        "\n",
        "# Name of the user\n",
        "submitter = \"The Whale and the Petunias\"\n",
        "\n",
        "predictions = json.loads(arr_to_submit)\n",
        "\n",
        "jsonStr = json.dumps({'submitter': submitter, 'predictions': predictions})\n",
        "data = jsonStr.encode('utf-8')\n",
        "req = request.Request(f\"https://{host}/{leaderboard_name}/api/\",\n",
        "                      headers={'Content-Type': 'application/json'},\n",
        "                      data=data)\n",
        "resp = request.urlopen(req)\n",
        "print(json.load(resp))"
      ],
      "execution_count": 197,
      "outputs": [
        {
          "output_type": "stream",
          "text": [
            "{'member': 'The Whale and the Petunias', 'rank': 4, 'score': 0.8753833638145928}\n"
          ],
          "name": "stdout"
        }
      ]
    },
    {
      "cell_type": "code",
      "metadata": {
        "id": "0WncxlSPwZRu",
        "colab_type": "code",
        "colab": {
          "base_uri": "https://localhost:8080/",
          "height": 289
        },
        "outputId": "e1c38456-4d42-4713-e304-84e1ed5a5dd8"
      },
      "source": [
        "elected_col = ['network_id',\n",
        "                'device_id',\n",
        "                'host_ipnunique',\n",
        "                'outbound_bytes_countnanmax',\n",
        "                'timestampcount',\n",
        "                'timestampnunique',\n",
        "                'timestamprange',\n",
        "                'transport_protocolnunique',\n",
        "                'port_dstnunique']\n",
        "df_features = final_df[selected_col].fillna(final_df.mean())\n",
        "\n",
        "X = df_features.copy()\n",
        "X.drop(['device_id'], inplace=True, axis=1)\n",
        "\n",
        "for i in range(15):\n",
        "    print(i)\n",
        "    # Run model\n",
        "    sub_anomaly_scores = run_IF(X,ms=1024, rs=random.randint(0,5000))\n",
        "    sub_anomaly_scores = -sub_anomaly_scores\n",
        "    scores_list.append(sub_anomaly_scores)\n",
        "\n",
        "anomaly_scores =list(np.mean(scores_list, axis=0))\n",
        "# Save results\n",
        "results = pd.DataFrame({'network_id' : df_features.network_id, 'device_id' : df_features.device_id,'confidence' : anomaly_scores})\n",
        "#%% Submission\n",
        "\n",
        "arr_to_submit = results.to_json(orient='values')\n",
        "\n",
        "leaderboard_name = \"armis\"\n",
        "host = \"leaderboard.datahack.org.il\"\n",
        "\n",
        "# Name of the user\n",
        "submitter = \"The Whale and the Petunias\"\n",
        "\n",
        "predictions = json.loads(arr_to_submit)\n",
        "\n",
        "jsonStr = json.dumps({'submitter': submitter, 'predictions': predictions})\n",
        "data = jsonStr.encode('utf-8')\n",
        "req = request.Request(f\"https://{host}/{leaderboard_name}/api/\",\n",
        "                      headers={'Content-Type': 'application/json'},\n",
        "                      data=data)\n",
        "resp = request.urlopen(req)\n",
        "print(json.load(resp))"
      ],
      "execution_count": 196,
      "outputs": [
        {
          "output_type": "stream",
          "text": [
            "0\n",
            "1\n",
            "2\n",
            "3\n",
            "4\n",
            "5\n",
            "6\n",
            "7\n",
            "8\n",
            "9\n",
            "10\n",
            "11\n",
            "12\n",
            "13\n",
            "14\n",
            "{'member': 'The Whale and the Petunias', 'rank': 6, 'score': 0.8465436628183733}\n"
          ],
          "name": "stdout"
        }
      ]
    },
    {
      "cell_type": "code",
      "metadata": {
        "id": "Ng5UB30q2Dt4",
        "colab_type": "code",
        "colab": {}
      },
      "source": [
        "import pandas as pd\n",
        "import numpy as np\n",
        "\n",
        "\n",
        "def get_network_hierarchy(network_df):\n",
        "  \"\"\"\n",
        "  input: a table of network connection\n",
        "  output: the same table with additional columns representing the level of hierarchy in the net\n",
        "  IMPORTANT: the function assumes there each device has it unique id regardless the network it is in, if there are\n",
        "  duplicates ids, the function will results incorrect results\n",
        "            thus it is recommended to run the function on each network separately or to change the devices ids so\n",
        "            they won't be any shared ids across networks\n",
        "  \"\"\"\n",
        "  # Correct columns values from float tp integers\n",
        "  network_df['full_service_device_id'] = [str(int(network))+'_'+str(int(device)) if ~np.isnan(device) else None\\\n",
        "                                          for network,device in zip(network_df.network_id,network_df.service_device_id)]\n",
        "  network_df['full_device_id']         = [str(int(network))+'_'+str(int(device)) if ~np.isnan(device) else None\\\n",
        "                                          for network,device in zip(network_df.network_id,network_df.device_id)]\n",
        "  \n",
        "  output_devices = list(network_df.full_device_id.unique())\n",
        "  input_devices  = list(network_df.full_service_device_id.unique())\n",
        "  root_devices   = list(set(output_devices).difference(set(input_devices)))\n",
        "  \n",
        "  device_level = 0\n",
        "  network_df['network_hierarchy'] = np.nan\n",
        "  \n",
        "  while len(root_devices)>0:\n",
        "    network_df['network_hierarchy'] = [device_level+1 if device in root_devices else val for device, val in zip(network_df.full_device_id,network_df.network_hierarchy)]\n",
        "    root_devices = list(network_df.full_service_device_id[network_df.network_hierarchy==device_level+1])\n",
        "    device_level+=1\n",
        "    print(device_level)\n",
        "  return(network_df)"
      ],
      "execution_count": 0,
      "outputs": []
    },
    {
      "cell_type": "code",
      "metadata": {
        "id": "5MIEvsTzeQKn",
        "colab_type": "code",
        "colab": {
          "base_uri": "https://localhost:8080/",
          "height": 204
        },
        "outputId": "7b4a38a5-fa84-4318-fe62-a584c46327b4"
      },
      "source": [
        "url = 'https://armis-datahack.s3.amazonaws.com/all_sessions.csv'\n",
        "sessions_df = pd.read_csv(url,usecols = ['network_id','device_id','service_device_id'])\n",
        "sessions_df.head()"
      ],
      "execution_count": 158,
      "outputs": [
        {
          "output_type": "execute_result",
          "data": {
            "text/html": [
              "<div>\n",
              "<style scoped>\n",
              "    .dataframe tbody tr th:only-of-type {\n",
              "        vertical-align: middle;\n",
              "    }\n",
              "\n",
              "    .dataframe tbody tr th {\n",
              "        vertical-align: top;\n",
              "    }\n",
              "\n",
              "    .dataframe thead th {\n",
              "        text-align: right;\n",
              "    }\n",
              "</style>\n",
              "<table border=\"1\" class=\"dataframe\">\n",
              "  <thead>\n",
              "    <tr style=\"text-align: right;\">\n",
              "      <th></th>\n",
              "      <th>network_id</th>\n",
              "      <th>device_id</th>\n",
              "      <th>service_device_id</th>\n",
              "    </tr>\n",
              "  </thead>\n",
              "  <tbody>\n",
              "    <tr>\n",
              "      <th>0</th>\n",
              "      <td>0</td>\n",
              "      <td>35</td>\n",
              "      <td>790889.0</td>\n",
              "    </tr>\n",
              "    <tr>\n",
              "      <th>1</th>\n",
              "      <td>0</td>\n",
              "      <td>35</td>\n",
              "      <td>1604622.0</td>\n",
              "    </tr>\n",
              "    <tr>\n",
              "      <th>2</th>\n",
              "      <td>0</td>\n",
              "      <td>57</td>\n",
              "      <td>NaN</td>\n",
              "    </tr>\n",
              "    <tr>\n",
              "      <th>3</th>\n",
              "      <td>0</td>\n",
              "      <td>57</td>\n",
              "      <td>NaN</td>\n",
              "    </tr>\n",
              "    <tr>\n",
              "      <th>4</th>\n",
              "      <td>0</td>\n",
              "      <td>57</td>\n",
              "      <td>NaN</td>\n",
              "    </tr>\n",
              "  </tbody>\n",
              "</table>\n",
              "</div>"
            ],
            "text/plain": [
              "   network_id  device_id  service_device_id\n",
              "0           0         35           790889.0\n",
              "1           0         35          1604622.0\n",
              "2           0         57                NaN\n",
              "3           0         57                NaN\n",
              "4           0         57                NaN"
            ]
          },
          "metadata": {
            "tags": []
          },
          "execution_count": 158
        }
      ]
    },
    {
      "cell_type": "code",
      "metadata": {
        "id": "v9rahjmTehVK",
        "colab_type": "code",
        "colab": {}
      },
      "source": [
        "network_df = get_network_hierarchy(sessions_df)"
      ],
      "execution_count": 0,
      "outputs": []
    },
    {
      "cell_type": "code",
      "metadata": {
        "id": "7PHGJ8qYlkT-",
        "colab_type": "code",
        "colab": {}
      },
      "source": [
        ""
      ],
      "execution_count": 0,
      "outputs": []
    }
  ]
}