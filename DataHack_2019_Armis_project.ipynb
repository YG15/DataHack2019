{
  "nbformat": 4,
  "nbformat_minor": 0,
  "metadata": {
    "colab": {
      "name": "DataHack 2019 Armis project.ipynb",
      "version": "0.3.2",
      "provenance": [],
      "collapsed_sections": [],
      "include_colab_link": true
    },
    "kernelspec": {
      "name": "python3",
      "display_name": "Python 3"
    }
  },
  "cells": [
    {
      "cell_type": "markdown",
      "metadata": {
        "id": "view-in-github",
        "colab_type": "text"
      },
      "source": [
        "<a href=\"https://colab.research.google.com/github/YG15/DataHack2019/blob/master/DataHack_2019_Armis_project.ipynb\" target=\"_parent\"><img src=\"https://colab.research.google.com/assets/colab-badge.svg\" alt=\"Open In Colab\"/></a>"
      ]
    },
    {
      "cell_type": "markdown",
      "metadata": {
        "id": "_AsvNjEh1vIF",
        "colab_type": "text"
      },
      "source": [
        "# **DataHack 2019 Armis project**"
      ]
    },
    {
      "cell_type": "code",
      "metadata": {
        "id": "Q4YJGE3_DqYS",
        "colab_type": "code",
        "colab": {}
      },
      "source": [
        "import pandas as pd\n",
        "import numpy as np"
      ],
      "execution_count": 0,
      "outputs": []
    },
    {
      "cell_type": "code",
      "metadata": {
        "id": "d8OdmXvA4-2m",
        "colab_type": "code",
        "colab": {}
      },
      "source": [
        "!wget https://raw.githubusercontent.com/YG15/DataHack2019/master/src/functions/get_network_hierarchy.py\n",
        "\n",
        "from get_network_hierarchy import *"
      ],
      "execution_count": 0,
      "outputs": []
    },
    {
      "cell_type": "code",
      "metadata": {
        "id": "77RUT-GiDuCH",
        "colab_type": "code",
        "colab": {
          "base_uri": "https://localhost:8080/",
          "height": 197
        },
        "outputId": "002ab78d-b4fb-44b4-da21-f76d0aa56825"
      },
      "source": [
        "url = 'https://raw.githubusercontent.com/YG15/DataHack2019/master/data/draft/network_draft.csv'\n",
        "df = pd.read_csv(url)\n",
        "df.head()"
      ],
      "execution_count": 2,
      "outputs": [
        {
          "output_type": "execute_result",
          "data": {
            "text/html": [
              "<div>\n",
              "<style scoped>\n",
              "    .dataframe tbody tr th:only-of-type {\n",
              "        vertical-align: middle;\n",
              "    }\n",
              "\n",
              "    .dataframe tbody tr th {\n",
              "        vertical-align: top;\n",
              "    }\n",
              "\n",
              "    .dataframe thead th {\n",
              "        text-align: right;\n",
              "    }\n",
              "</style>\n",
              "<table border=\"1\" class=\"dataframe\">\n",
              "  <thead>\n",
              "    <tr style=\"text-align: right;\">\n",
              "      <th></th>\n",
              "      <th>network_id</th>\n",
              "      <th>device_id</th>\n",
              "      <th>service_device_id</th>\n",
              "      <th>timestamp</th>\n",
              "    </tr>\n",
              "  </thead>\n",
              "  <tbody>\n",
              "    <tr>\n",
              "      <th>0</th>\n",
              "      <td>1</td>\n",
              "      <td>47</td>\n",
              "      <td>932.0</td>\n",
              "      <td>1564963200</td>\n",
              "    </tr>\n",
              "    <tr>\n",
              "      <th>1</th>\n",
              "      <td>1</td>\n",
              "      <td>440</td>\n",
              "      <td>12862.0</td>\n",
              "      <td>1564963200</td>\n",
              "    </tr>\n",
              "    <tr>\n",
              "      <th>2</th>\n",
              "      <td>1</td>\n",
              "      <td>440</td>\n",
              "      <td>47.0</td>\n",
              "      <td>1564963200</td>\n",
              "    </tr>\n",
              "    <tr>\n",
              "      <th>3</th>\n",
              "      <td>1</td>\n",
              "      <td>440</td>\n",
              "      <td>131.0</td>\n",
              "      <td>1564963200</td>\n",
              "    </tr>\n",
              "    <tr>\n",
              "      <th>4</th>\n",
              "      <td>0</td>\n",
              "      <td>52</td>\n",
              "      <td>430.0</td>\n",
              "      <td>1564963200</td>\n",
              "    </tr>\n",
              "  </tbody>\n",
              "</table>\n",
              "</div>"
            ],
            "text/plain": [
              "   network_id  device_id  service_device_id   timestamp\n",
              "0           1         47              932.0  1564963200\n",
              "1           1        440            12862.0  1564963200\n",
              "2           1        440               47.0  1564963200\n",
              "3           1        440              131.0  1564963200\n",
              "4           0         52              430.0  1564963200"
            ]
          },
          "metadata": {
            "tags": []
          },
          "execution_count": 2
        }
      ]
    },
    {
      "cell_type": "code",
      "metadata": {
        "id": "oPWcWQ2CUySq",
        "colab_type": "code",
        "colab": {
          "base_uri": "https://localhost:8080/",
          "height": 197
        },
        "outputId": "acad69e9-95e4-4c29-c7ed-44e311cb9916"
      },
      "source": [
        "get_network_hierarchy(network_df).head()"
      ],
      "execution_count": 60,
      "outputs": [
        {
          "output_type": "execute_result",
          "data": {
            "text/html": [
              "<div>\n",
              "<style scoped>\n",
              "    .dataframe tbody tr th:only-of-type {\n",
              "        vertical-align: middle;\n",
              "    }\n",
              "\n",
              "    .dataframe tbody tr th {\n",
              "        vertical-align: top;\n",
              "    }\n",
              "\n",
              "    .dataframe thead th {\n",
              "        text-align: right;\n",
              "    }\n",
              "</style>\n",
              "<table border=\"1\" class=\"dataframe\">\n",
              "  <thead>\n",
              "    <tr style=\"text-align: right;\">\n",
              "      <th></th>\n",
              "      <th>network_id</th>\n",
              "      <th>device_id</th>\n",
              "      <th>service_device_id</th>\n",
              "      <th>timestamp</th>\n",
              "      <th>network_hierarchy</th>\n",
              "    </tr>\n",
              "  </thead>\n",
              "  <tbody>\n",
              "    <tr>\n",
              "      <th>0</th>\n",
              "      <td>1</td>\n",
              "      <td>47</td>\n",
              "      <td>932</td>\n",
              "      <td>1564963200</td>\n",
              "      <td>2.0</td>\n",
              "    </tr>\n",
              "    <tr>\n",
              "      <th>1</th>\n",
              "      <td>1</td>\n",
              "      <td>440</td>\n",
              "      <td>12862</td>\n",
              "      <td>1564963200</td>\n",
              "      <td>1.0</td>\n",
              "    </tr>\n",
              "    <tr>\n",
              "      <th>2</th>\n",
              "      <td>1</td>\n",
              "      <td>440</td>\n",
              "      <td>47</td>\n",
              "      <td>1564963200</td>\n",
              "      <td>1.0</td>\n",
              "    </tr>\n",
              "    <tr>\n",
              "      <th>3</th>\n",
              "      <td>1</td>\n",
              "      <td>440</td>\n",
              "      <td>131</td>\n",
              "      <td>1564963200</td>\n",
              "      <td>1.0</td>\n",
              "    </tr>\n",
              "    <tr>\n",
              "      <th>4</th>\n",
              "      <td>0</td>\n",
              "      <td>52</td>\n",
              "      <td>430</td>\n",
              "      <td>1564963200</td>\n",
              "      <td>1.0</td>\n",
              "    </tr>\n",
              "  </tbody>\n",
              "</table>\n",
              "</div>"
            ],
            "text/plain": [
              "   network_id  device_id  service_device_id   timestamp  network_hierarchy\n",
              "0           1         47                932  1564963200                2.0\n",
              "1           1        440              12862  1564963200                1.0\n",
              "2           1        440                 47  1564963200                1.0\n",
              "3           1        440                131  1564963200                1.0\n",
              "4           0         52                430  1564963200                1.0"
            ]
          },
          "metadata": {
            "tags": []
          },
          "execution_count": 60
        }
      ]
    },
    {
      "cell_type": "code",
      "metadata": {
        "id": "3Xpk1Ob6UIws",
        "colab_type": "code",
        "colab": {}
      },
      "source": [
        "def get_network_hierarchy(network_df):\n",
        "  \"\"\"\n",
        "  input: a table of network connection\n",
        "  output: the same table with additional columns representing the level of hierarchy in the net\n",
        "  IPORTANT: the function assumes there each device has it unique id regardless the network it is in, if there are duplicates ids, the function will results incorrect results\n",
        "            thus it is recommended to run the function on each network seperatly or to change the devices ids so they won't be any shared ids across networks\n",
        "  \"\"\"\n",
        "  network_df['service_device_id'] = network_df.service_device_id.apply(lambda x: int(x))\n",
        "  output_devices = list(network_df.device_id.unique())\n",
        "  input_devices = list(network_df.service_device_id.unique())\n",
        "  root_devices = list(set(output_devices).difference(set(input_devices)))\n",
        "  device_level = 0\n",
        "  network_df['network_hierarchy'] = np.nan\n",
        "  while len(root_devices)>0:\n",
        "    network_df['network_hierarchy'] = [device_level+1 if device in root_devices else val for device, val in zip(network_df.device_id,network_df.network_hierarchy)]\n",
        "    root_devices = list(network_df.service_device_id[network_df.network_hierarchy==device_level+1])\n",
        "    device_level+=1\n",
        "  return(network_df)"
      ],
      "execution_count": 0,
      "outputs": []
    },
    {
      "cell_type": "code",
      "metadata": {
        "id": "NpIUmsj64HRn",
        "colab_type": "code",
        "colab": {}
      },
      "source": [
        ""
      ],
      "execution_count": 0,
      "outputs": []
    }
  ]
}