{
 "cells": [
  {
   "cell_type": "markdown",
   "metadata": {},
   "source": [
    "Code based on https://www.datascience.com/blog/fraud-detection-with-tensorflow\n",
    "\n",
    "Download data from https://www.kaggle.com/mlg-ulb/creditcardfraud/downloads/creditcardfraud.zip/3"
   ]
  },
  {
   "cell_type": "code",
   "execution_count": 68,
   "metadata": {},
   "outputs": [],
   "source": [
    "import pandas as pd\n",
    "import numpy as np\n",
    "import matplotlib.pyplot as plt\n",
    "import seaborn as sns\n",
    "import sklearn as sk\n",
    "from sklearn.preprocessing import StandardScaler\n",
    "from sklearn.model_selection import train_test_split\n",
    "from sklearn.metrics import confusion_matrix, precision_recall_curve\n",
    "from sklearn.metrics import recall_score, classification_report, auc, roc_curve\n",
    "from sklearn.metrics import precision_recall_fscore_support, f1_score\n",
    "import time\n",
    "\n",
    "import keras\n",
    "import tensorflow as tf\n",
    "from keras.models import Model, load_model\n",
    "from keras.layers import Input, Dense\n",
    "from keras.callbacks import ModelCheckpoint, TensorBoard\n",
    "from keras import regularizers\n",
    "\n",
    "%matplotlib inline"
   ]
  },
  {
   "cell_type": "code",
   "execution_count": 32,
   "metadata": {},
   "outputs": [
    {
     "name": "stdout",
     "output_type": "stream",
     "text": [
      "(284807, 31)\n"
     ]
    },
    {
     "data": {
      "text/html": [
       "<div>\n",
       "<style scoped>\n",
       "    .dataframe tbody tr th:only-of-type {\n",
       "        vertical-align: middle;\n",
       "    }\n",
       "\n",
       "    .dataframe tbody tr th {\n",
       "        vertical-align: top;\n",
       "    }\n",
       "\n",
       "    .dataframe thead th {\n",
       "        text-align: right;\n",
       "    }\n",
       "</style>\n",
       "<table border=\"1\" class=\"dataframe\">\n",
       "  <thead>\n",
       "    <tr style=\"text-align: right;\">\n",
       "      <th></th>\n",
       "      <th>Time</th>\n",
       "      <th>V1</th>\n",
       "      <th>V2</th>\n",
       "      <th>V3</th>\n",
       "      <th>V4</th>\n",
       "      <th>V5</th>\n",
       "      <th>V6</th>\n",
       "      <th>V7</th>\n",
       "      <th>V8</th>\n",
       "      <th>V9</th>\n",
       "      <th>...</th>\n",
       "      <th>V21</th>\n",
       "      <th>V22</th>\n",
       "      <th>V23</th>\n",
       "      <th>V24</th>\n",
       "      <th>V25</th>\n",
       "      <th>V26</th>\n",
       "      <th>V27</th>\n",
       "      <th>V28</th>\n",
       "      <th>Amount</th>\n",
       "      <th>Class</th>\n",
       "    </tr>\n",
       "  </thead>\n",
       "  <tbody>\n",
       "    <tr>\n",
       "      <th>0</th>\n",
       "      <td>0.0</td>\n",
       "      <td>-1.359807</td>\n",
       "      <td>-0.072781</td>\n",
       "      <td>2.536347</td>\n",
       "      <td>1.378155</td>\n",
       "      <td>-0.338321</td>\n",
       "      <td>0.462388</td>\n",
       "      <td>0.239599</td>\n",
       "      <td>0.098698</td>\n",
       "      <td>0.363787</td>\n",
       "      <td>...</td>\n",
       "      <td>-0.018307</td>\n",
       "      <td>0.277838</td>\n",
       "      <td>-0.110474</td>\n",
       "      <td>0.066928</td>\n",
       "      <td>0.128539</td>\n",
       "      <td>-0.189115</td>\n",
       "      <td>0.133558</td>\n",
       "      <td>-0.021053</td>\n",
       "      <td>149.62</td>\n",
       "      <td>0</td>\n",
       "    </tr>\n",
       "    <tr>\n",
       "      <th>1</th>\n",
       "      <td>0.0</td>\n",
       "      <td>1.191857</td>\n",
       "      <td>0.266151</td>\n",
       "      <td>0.166480</td>\n",
       "      <td>0.448154</td>\n",
       "      <td>0.060018</td>\n",
       "      <td>-0.082361</td>\n",
       "      <td>-0.078803</td>\n",
       "      <td>0.085102</td>\n",
       "      <td>-0.255425</td>\n",
       "      <td>...</td>\n",
       "      <td>-0.225775</td>\n",
       "      <td>-0.638672</td>\n",
       "      <td>0.101288</td>\n",
       "      <td>-0.339846</td>\n",
       "      <td>0.167170</td>\n",
       "      <td>0.125895</td>\n",
       "      <td>-0.008983</td>\n",
       "      <td>0.014724</td>\n",
       "      <td>2.69</td>\n",
       "      <td>0</td>\n",
       "    </tr>\n",
       "    <tr>\n",
       "      <th>2</th>\n",
       "      <td>1.0</td>\n",
       "      <td>-1.358354</td>\n",
       "      <td>-1.340163</td>\n",
       "      <td>1.773209</td>\n",
       "      <td>0.379780</td>\n",
       "      <td>-0.503198</td>\n",
       "      <td>1.800499</td>\n",
       "      <td>0.791461</td>\n",
       "      <td>0.247676</td>\n",
       "      <td>-1.514654</td>\n",
       "      <td>...</td>\n",
       "      <td>0.247998</td>\n",
       "      <td>0.771679</td>\n",
       "      <td>0.909412</td>\n",
       "      <td>-0.689281</td>\n",
       "      <td>-0.327642</td>\n",
       "      <td>-0.139097</td>\n",
       "      <td>-0.055353</td>\n",
       "      <td>-0.059752</td>\n",
       "      <td>378.66</td>\n",
       "      <td>0</td>\n",
       "    </tr>\n",
       "    <tr>\n",
       "      <th>3</th>\n",
       "      <td>1.0</td>\n",
       "      <td>-0.966272</td>\n",
       "      <td>-0.185226</td>\n",
       "      <td>1.792993</td>\n",
       "      <td>-0.863291</td>\n",
       "      <td>-0.010309</td>\n",
       "      <td>1.247203</td>\n",
       "      <td>0.237609</td>\n",
       "      <td>0.377436</td>\n",
       "      <td>-1.387024</td>\n",
       "      <td>...</td>\n",
       "      <td>-0.108300</td>\n",
       "      <td>0.005274</td>\n",
       "      <td>-0.190321</td>\n",
       "      <td>-1.175575</td>\n",
       "      <td>0.647376</td>\n",
       "      <td>-0.221929</td>\n",
       "      <td>0.062723</td>\n",
       "      <td>0.061458</td>\n",
       "      <td>123.50</td>\n",
       "      <td>0</td>\n",
       "    </tr>\n",
       "    <tr>\n",
       "      <th>4</th>\n",
       "      <td>2.0</td>\n",
       "      <td>-1.158233</td>\n",
       "      <td>0.877737</td>\n",
       "      <td>1.548718</td>\n",
       "      <td>0.403034</td>\n",
       "      <td>-0.407193</td>\n",
       "      <td>0.095921</td>\n",
       "      <td>0.592941</td>\n",
       "      <td>-0.270533</td>\n",
       "      <td>0.817739</td>\n",
       "      <td>...</td>\n",
       "      <td>-0.009431</td>\n",
       "      <td>0.798278</td>\n",
       "      <td>-0.137458</td>\n",
       "      <td>0.141267</td>\n",
       "      <td>-0.206010</td>\n",
       "      <td>0.502292</td>\n",
       "      <td>0.219422</td>\n",
       "      <td>0.215153</td>\n",
       "      <td>69.99</td>\n",
       "      <td>0</td>\n",
       "    </tr>\n",
       "  </tbody>\n",
       "</table>\n",
       "<p>5 rows × 31 columns</p>\n",
       "</div>"
      ],
      "text/plain": [
       "   Time        V1        V2        V3        V4        V5        V6        V7  \\\n",
       "0   0.0 -1.359807 -0.072781  2.536347  1.378155 -0.338321  0.462388  0.239599   \n",
       "1   0.0  1.191857  0.266151  0.166480  0.448154  0.060018 -0.082361 -0.078803   \n",
       "2   1.0 -1.358354 -1.340163  1.773209  0.379780 -0.503198  1.800499  0.791461   \n",
       "3   1.0 -0.966272 -0.185226  1.792993 -0.863291 -0.010309  1.247203  0.237609   \n",
       "4   2.0 -1.158233  0.877737  1.548718  0.403034 -0.407193  0.095921  0.592941   \n",
       "\n",
       "         V8        V9  ...       V21       V22       V23       V24       V25  \\\n",
       "0  0.098698  0.363787  ... -0.018307  0.277838 -0.110474  0.066928  0.128539   \n",
       "1  0.085102 -0.255425  ... -0.225775 -0.638672  0.101288 -0.339846  0.167170   \n",
       "2  0.247676 -1.514654  ...  0.247998  0.771679  0.909412 -0.689281 -0.327642   \n",
       "3  0.377436 -1.387024  ... -0.108300  0.005274 -0.190321 -1.175575  0.647376   \n",
       "4 -0.270533  0.817739  ... -0.009431  0.798278 -0.137458  0.141267 -0.206010   \n",
       "\n",
       "        V26       V27       V28  Amount  Class  \n",
       "0 -0.189115  0.133558 -0.021053  149.62      0  \n",
       "1  0.125895 -0.008983  0.014724    2.69      0  \n",
       "2 -0.139097 -0.055353 -0.059752  378.66      0  \n",
       "3 -0.221929  0.062723  0.061458  123.50      0  \n",
       "4  0.502292  0.219422  0.215153   69.99      0  \n",
       "\n",
       "[5 rows x 31 columns]"
      ]
     },
     "execution_count": 32,
     "metadata": {},
     "output_type": "execute_result"
    }
   ],
   "source": [
    "df = pd.read_csv(\"data/creditcard.csv\") \n",
    "print(df.shape)\n",
    "df.head()"
   ]
  },
  {
   "cell_type": "code",
   "execution_count": 8,
   "metadata": {},
   "outputs": [],
   "source": [
    "# Drop label column\n",
    "y = df['Class']\n",
    "X = df.drop('Class', axis=1)"
   ]
  },
  {
   "cell_type": "code",
   "execution_count": 14,
   "metadata": {},
   "outputs": [],
   "source": [
    "# Normalize time and amount (all other fields are result of PCA and so are normalized)\n",
    "X_norm = X\n",
    "X['Time'] = StandardScaler().fit_transform(X['Time'].values.reshape(-1, 1))\n",
    "X['Amount'] = StandardScaler().fit_transform(X['Amount'].values.reshape(-1, 1))"
   ]
  },
  {
   "cell_type": "markdown",
   "metadata": {},
   "source": [
    "## Isolation Forest"
   ]
  },
  {
   "cell_type": "code",
   "execution_count": 18,
   "metadata": {},
   "outputs": [
    {
     "name": "stdout",
     "output_type": "stream",
     "text": [
      "Run time: 26.8826 sec\n"
     ]
    }
   ],
   "source": [
    "# Run isolation Forest\n",
    "from sklearn.ensemble import IsolationForest\n",
    "\n",
    "start = time.time()\n",
    "if_model = IsolationForest(behaviour = 'new', max_samples=100, \n",
    "                      random_state = 1, contamination = 'auto')\n",
    "if_model.fit(X)\n",
    "anomaly_scores = if_model.decision_function(X)\n",
    "end = time.time()\n",
    "\n",
    "print('Run time: %.4f sec' %(end-start))"
   ]
  },
  {
   "cell_type": "code",
   "execution_count": 31,
   "metadata": {},
   "outputs": [
    {
     "name": "stdout",
     "output_type": "stream",
     "text": [
      "Detected 25976 (of 492) anomalies\n",
      "AUC = \t\t0.948454 \n",
      "sensitivity = \t0.884 \n",
      "specificity = \t0.910\n"
     ]
    }
   ],
   "source": [
    "# Show results\n",
    "thresh = 0.01 # given that the model was run with contamination = 'auto', a score \n",
    "              # of 0 is corresponds to above 20% of scores. \n",
    "              # This affects the sensitivity and specificity but not the main AUC result. \n",
    "\n",
    "out_pred = (anomaly_scores<thresh).astype('int')\n",
    "\n",
    "sensitivity = np.sum(np.logical_and(y==1,out_pred==1))/np.sum(y==1)\n",
    "specificity = np.sum(np.logical_and(y==0,out_pred==0))/np.sum(y==0)\n",
    "auc = sk.metrics.roc_auc_score(y,-anomaly_scores)\n",
    "\n",
    "print('Detected %d (of %d) anomalies' %(np.sum(out_pred), np.sum(y)))\n",
    "print('AUC = \\t\\t%f \\nsensitivity = \\t%.3f \\nspecificity = \\t%.3f' %(auc, sensitivity, specificity))"
   ]
  },
  {
   "cell_type": "markdown",
   "metadata": {},
   "source": [
    "#### AUC of 0.948 is not bad"
   ]
  },
  {
   "cell_type": "markdown",
   "metadata": {},
   "source": [
    "## Autoencoder on IF-labled data"
   ]
  },
  {
   "cell_type": "markdown",
   "metadata": {},
   "source": [
    "The autoencoder is unsupervised but assumes that the training data does not include anomalies. \n",
    "Given that we don't know the labels, let's assume that if we use a high enough threshold, we will be left with none or very few outlier samples"
   ]
  },
  {
   "cell_type": "code",
   "execution_count": 72,
   "metadata": {},
   "outputs": [
    {
     "data": {
      "text/plain": [
       "(258831, 30)"
      ]
     },
     "execution_count": 72,
     "metadata": {},
     "output_type": "execute_result"
    }
   ],
   "source": [
    "my_thres = 0.01\n",
    "my_y = anomaly_scores < my_thres\n",
    "\n",
    "X_train = X.iloc[my_y==False]\n",
    "X_train.shape"
   ]
  },
  {
   "cell_type": "markdown",
   "metadata": {},
   "source": [
    "Now train an autoencode on this more-or-less non-anomalous data"
   ]
  },
  {
   "cell_type": "code",
   "execution_count": 73,
   "metadata": {},
   "outputs": [],
   "source": [
    "X_train, X_test = train_test_split(X_train, test_size=0.1, random_state=1)\n",
    "X_train = X_train.values #transform to ndarray\n",
    "X_test = X_test.values"
   ]
  },
  {
   "cell_type": "code",
   "execution_count": 75,
   "metadata": {},
   "outputs": [],
   "source": [
    "nb_epoch = 100\n",
    "batch_size = 128\n",
    "input_dim = X_train.shape[1] #num of columns, 30\n",
    "encoding_dim = 14\n",
    "hidden_dim = int(encoding_dim / 2) #i.e. 7\n",
    "learning_rate = 1e-7\n",
    "\n",
    "input_layer = Input(shape=(input_dim, ))\n",
    "encoder = Dense(encoding_dim, activation=\"tanh\", activity_regularizer=regularizers.l1(learning_rate))(input_layer)\n",
    "encoder = Dense(hidden_dim, activation=\"relu\")(encoder)\n",
    "decoder = Dense(hidden_dim, activation='tanh')(encoder)\n",
    "decoder = Dense(input_dim, activation='relu')(decoder)\n",
    "autoencoder = Model(inputs=input_layer, outputs=decoder)\n"
   ]
  },
  {
   "cell_type": "code",
   "execution_count": 76,
   "metadata": {},
   "outputs": [
    {
     "name": "stderr",
     "output_type": "stream",
     "text": [
      "W0904 12:22:30.958676  8536 deprecation_wrapper.py:119] From C:\\Users\\Edden\\Anaconda3\\lib\\site-packages\\keras\\backend\\tensorflow_backend.py:1033: The name tf.assign_add is deprecated. Please use tf.compat.v1.assign_add instead.\n",
      "\n",
      "W0904 12:22:31.109590  8536 deprecation_wrapper.py:119] From C:\\Users\\Edden\\Anaconda3\\lib\\site-packages\\keras\\backend\\tensorflow_backend.py:1020: The name tf.assign is deprecated. Please use tf.compat.v1.assign instead.\n",
      "\n"
     ]
    },
    {
     "name": "stdout",
     "output_type": "stream",
     "text": [
      "Train on 232947 samples, validate on 25884 samples\n"
     ]
    },
    {
     "name": "stderr",
     "output_type": "stream",
     "text": [
      "W0904 12:22:31.494969  8536 deprecation_wrapper.py:119] From C:\\Users\\Edden\\Anaconda3\\lib\\site-packages\\keras\\callbacks.py:1122: The name tf.summary.merge_all is deprecated. Please use tf.compat.v1.summary.merge_all instead.\n",
      "\n",
      "W0904 12:22:31.496967  8536 deprecation_wrapper.py:119] From C:\\Users\\Edden\\Anaconda3\\lib\\site-packages\\keras\\callbacks.py:1125: The name tf.summary.FileWriter is deprecated. Please use tf.compat.v1.summary.FileWriter instead.\n",
      "\n"
     ]
    },
    {
     "name": "stdout",
     "output_type": "stream",
     "text": [
      "Epoch 1/100\n",
      "232947/232947 [==============================] - 4s 16us/step - loss: 0.5111 - acc: 0.5243 - val_loss: 0.4583 - val_acc: 0.6210\n",
      "Epoch 2/100\n",
      "232947/232947 [==============================] - 3s 15us/step - loss: 0.4471 - acc: 0.6429 - val_loss: 0.4355 - val_acc: 0.6576\n",
      "Epoch 3/100\n",
      "232947/232947 [==============================] - 4s 19us/step - loss: 0.4347 - acc: 0.6631 - val_loss: 0.4289 - val_acc: 0.6672\n",
      "Epoch 4/100\n",
      "232947/232947 [==============================] - 5s 21us/step - loss: 0.4304 - acc: 0.6738 - val_loss: 0.4263 - val_acc: 0.6755\n",
      "Epoch 5/100\n",
      "232947/232947 [==============================] - 4s 19us/step - loss: 0.4283 - acc: 0.6841 - val_loss: 0.4250 - val_acc: 0.6873\n",
      "Epoch 6/100\n",
      "232947/232947 [==============================] - 5s 22us/step - loss: 0.4271 - acc: 0.6912 - val_loss: 0.4240 - val_acc: 0.6928\n",
      "Epoch 7/100\n",
      "232947/232947 [==============================] - 6s 25us/step - loss: 0.4264 - acc: 0.6953 - val_loss: 0.4235 - val_acc: 0.6941\n",
      "Epoch 8/100\n",
      "232947/232947 [==============================] - 4s 19us/step - loss: 0.4258 - acc: 0.6980 - val_loss: 0.4228 - val_acc: 0.7021\n",
      "Epoch 9/100\n",
      "232947/232947 [==============================] - 6s 24us/step - loss: 0.4253 - acc: 0.7024 - val_loss: 0.4225 - val_acc: 0.6998\n",
      "Epoch 10/100\n",
      "232947/232947 [==============================] - 7s 29us/step - loss: 0.4248 - acc: 0.7058 - val_loss: 0.4218 - val_acc: 0.7024\n",
      "Epoch 11/100\n",
      "232947/232947 [==============================] - 6s 24us/step - loss: 0.4245 - acc: 0.7077 - val_loss: 0.4217 - val_acc: 0.7092\n",
      "Epoch 12/100\n",
      "232947/232947 [==============================] - 5s 23us/step - loss: 0.4242 - acc: 0.7093 - val_loss: 0.4215 - val_acc: 0.7106\n",
      "Epoch 13/100\n",
      "232947/232947 [==============================] - 4s 18us/step - loss: 0.4241 - acc: 0.7101 - val_loss: 0.4216 - val_acc: 0.7088\n",
      "Epoch 14/100\n",
      "232947/232947 [==============================] - 4s 18us/step - loss: 0.4239 - acc: 0.7107 - val_loss: 0.4210 - val_acc: 0.7150\n",
      "Epoch 15/100\n",
      "232947/232947 [==============================] - 5s 20us/step - loss: 0.4238 - acc: 0.7116 - val_loss: 0.4211 - val_acc: 0.7128\n",
      "Epoch 16/100\n",
      "232947/232947 [==============================] - 5s 20us/step - loss: 0.4237 - acc: 0.7131 - val_loss: 0.4208 - val_acc: 0.7144\n",
      "Epoch 17/100\n",
      "232947/232947 [==============================] - 5s 21us/step - loss: 0.4235 - acc: 0.7134 - val_loss: 0.4206 - val_acc: 0.7187\n",
      "Epoch 18/100\n",
      "232947/232947 [==============================] - 5s 21us/step - loss: 0.4233 - acc: 0.7151 - val_loss: 0.4204 - val_acc: 0.7133\n",
      "Epoch 19/100\n",
      "232947/232947 [==============================] - 6s 26us/step - loss: 0.4232 - acc: 0.7164 - val_loss: 0.4205 - val_acc: 0.7174\n",
      "Epoch 20/100\n",
      "232947/232947 [==============================] - 7s 29us/step - loss: 0.4230 - acc: 0.7167 - val_loss: 0.4202 - val_acc: 0.7194\n",
      "Epoch 21/100\n",
      "232947/232947 [==============================] - 6s 25us/step - loss: 0.4228 - acc: 0.7174 - val_loss: 0.4199 - val_acc: 0.7179\n",
      "Epoch 22/100\n",
      "232947/232947 [==============================] - 5s 23us/step - loss: 0.4227 - acc: 0.7179 - val_loss: 0.4199 - val_acc: 0.7164\n",
      "Epoch 23/100\n",
      "232947/232947 [==============================] - 6s 25us/step - loss: 0.4226 - acc: 0.7189 - val_loss: 0.4198 - val_acc: 0.7232\n",
      "Epoch 24/100\n",
      "232947/232947 [==============================] - 6s 27us/step - loss: 0.4224 - acc: 0.7196 - val_loss: 0.4195 - val_acc: 0.7192\n",
      "Epoch 25/100\n",
      "232947/232947 [==============================] - 6s 27us/step - loss: 0.4223 - acc: 0.7196 - val_loss: 0.4195 - val_acc: 0.7206\n",
      "Epoch 26/100\n",
      "232947/232947 [==============================] - 7s 30us/step - loss: 0.4221 - acc: 0.7196 - val_loss: 0.4193 - val_acc: 0.7197\n",
      "Epoch 27/100\n",
      "232947/232947 [==============================] - 6s 24us/step - loss: 0.4220 - acc: 0.7205 - val_loss: 0.4190 - val_acc: 0.7221\n",
      "Epoch 28/100\n",
      "232947/232947 [==============================] - 6s 25us/step - loss: 0.4217 - acc: 0.7218 - val_loss: 0.4191 - val_acc: 0.7214\n",
      "Epoch 29/100\n",
      "232947/232947 [==============================] - 7s 32us/step - loss: 0.4216 - acc: 0.7226 - val_loss: 0.4188 - val_acc: 0.7250\n",
      "Epoch 30/100\n",
      "232947/232947 [==============================] - 6s 25us/step - loss: 0.4215 - acc: 0.7234 - val_loss: 0.4188 - val_acc: 0.7194\n",
      "Epoch 31/100\n",
      "232947/232947 [==============================] - 6s 28us/step - loss: 0.4213 - acc: 0.7228 - val_loss: 0.4186 - val_acc: 0.7209\n",
      "Epoch 32/100\n",
      "232947/232947 [==============================] - 5s 23us/step - loss: 0.4213 - acc: 0.7239 - val_loss: 0.4183 - val_acc: 0.7258\n",
      "Epoch 33/100\n",
      "232947/232947 [==============================] - 6s 24us/step - loss: 0.4212 - acc: 0.7242 - val_loss: 0.4185 - val_acc: 0.7260\n",
      "Epoch 34/100\n",
      "232947/232947 [==============================] - 6s 24us/step - loss: 0.4211 - acc: 0.7248 - val_loss: 0.4183 - val_acc: 0.7292\n",
      "Epoch 35/100\n",
      "232947/232947 [==============================] - 6s 26us/step - loss: 0.4210 - acc: 0.7252 - val_loss: 0.4182 - val_acc: 0.7253\n",
      "Epoch 36/100\n",
      "232947/232947 [==============================] - 7s 30us/step - loss: 0.4207 - acc: 0.7234 - val_loss: 0.4176 - val_acc: 0.7241\n",
      "Epoch 37/100\n",
      "232947/232947 [==============================] - 5s 21us/step - loss: 0.4205 - acc: 0.7225 - val_loss: 0.4176 - val_acc: 0.7223\n",
      "Epoch 38/100\n",
      "232947/232947 [==============================] - 5s 23us/step - loss: 0.4204 - acc: 0.7219 - val_loss: 0.4174 - val_acc: 0.7243\n",
      "Epoch 39/100\n",
      "232947/232947 [==============================] - 5s 20us/step - loss: 0.4203 - acc: 0.7216 - val_loss: 0.4172 - val_acc: 0.7234\n",
      "Epoch 40/100\n",
      "232947/232947 [==============================] - 5s 21us/step - loss: 0.4202 - acc: 0.7206 - val_loss: 0.4171 - val_acc: 0.7239\n",
      "Epoch 41/100\n",
      "232947/232947 [==============================] - 6s 25us/step - loss: 0.4201 - acc: 0.7213 - val_loss: 0.4170 - val_acc: 0.7192\n",
      "Epoch 42/100\n",
      "232947/232947 [==============================] - 4s 19us/step - loss: 0.4201 - acc: 0.7205 - val_loss: 0.4169 - val_acc: 0.7220\n",
      "Epoch 43/100\n",
      "232947/232947 [==============================] - 6s 24us/step - loss: 0.4200 - acc: 0.7206 - val_loss: 0.4170 - val_acc: 0.7226\n",
      "Epoch 44/100\n",
      "232947/232947 [==============================] - 5s 23us/step - loss: 0.4199 - acc: 0.7203 - val_loss: 0.4172 - val_acc: 0.7183\n",
      "Epoch 45/100\n",
      "232947/232947 [==============================] - 6s 25us/step - loss: 0.4199 - acc: 0.7196 - val_loss: 0.4168 - val_acc: 0.7220\n",
      "Epoch 46/100\n",
      "232947/232947 [==============================] - 7s 29us/step - loss: 0.4198 - acc: 0.7199 - val_loss: 0.4174 - val_acc: 0.7185\n",
      "Epoch 47/100\n",
      "232947/232947 [==============================] - 5s 22us/step - loss: 0.4198 - acc: 0.7199 - val_loss: 0.4169 - val_acc: 0.7205\n",
      "Epoch 48/100\n",
      "232947/232947 [==============================] - 5s 22us/step - loss: 0.4198 - acc: 0.7202 - val_loss: 0.4167 - val_acc: 0.7213\n",
      "Epoch 49/100\n",
      "232947/232947 [==============================] - 6s 25us/step - loss: 0.4197 - acc: 0.7200 - val_loss: 0.4167 - val_acc: 0.7216\n",
      "Epoch 50/100\n",
      "232947/232947 [==============================] - 6s 24us/step - loss: 0.4197 - acc: 0.7200 - val_loss: 0.4167 - val_acc: 0.7198\n",
      "Epoch 51/100\n",
      "232947/232947 [==============================] - 5s 22us/step - loss: 0.4197 - acc: 0.7200 - val_loss: 0.4167 - val_acc: 0.7169\n",
      "Epoch 52/100\n",
      "232947/232947 [==============================] - 6s 27us/step - loss: 0.4196 - acc: 0.7196 - val_loss: 0.4168 - val_acc: 0.7221\n",
      "Epoch 53/100\n",
      "232947/232947 [==============================] - 7s 30us/step - loss: 0.4196 - acc: 0.7203 - val_loss: 0.4167 - val_acc: 0.7186\n",
      "Epoch 54/100\n",
      "232947/232947 [==============================] - 4s 19us/step - loss: 0.4196 - acc: 0.7202 - val_loss: 0.4167 - val_acc: 0.7217\n",
      "Epoch 55/100\n",
      "232947/232947 [==============================] - 5s 21us/step - loss: 0.4195 - acc: 0.7204 - val_loss: 0.4166 - val_acc: 0.7209\n",
      "Epoch 56/100\n",
      "232947/232947 [==============================] - 6s 26us/step - loss: 0.4195 - acc: 0.7210 - val_loss: 0.4164 - val_acc: 0.7212\n",
      "Epoch 57/100\n",
      "232947/232947 [==============================] - 6s 25us/step - loss: 0.4195 - acc: 0.7207 - val_loss: 0.4165 - val_acc: 0.7186\n",
      "Epoch 58/100\n",
      "232947/232947 [==============================] - 5s 21us/step - loss: 0.4195 - acc: 0.7204 - val_loss: 0.4165 - val_acc: 0.7190\n",
      "Epoch 59/100\n"
     ]
    },
    {
     "name": "stdout",
     "output_type": "stream",
     "text": [
      "232947/232947 [==============================] - 4s 18us/step - loss: 0.4195 - acc: 0.7201 - val_loss: 0.4166 - val_acc: 0.7211\n",
      "Epoch 60/100\n",
      "232947/232947 [==============================] - 4s 18us/step - loss: 0.4194 - acc: 0.7207 - val_loss: 0.4168 - val_acc: 0.7185\n",
      "Epoch 61/100\n",
      "232947/232947 [==============================] - 5s 22us/step - loss: 0.4194 - acc: 0.7207 - val_loss: 0.4165 - val_acc: 0.7201\n",
      "Epoch 62/100\n",
      "232947/232947 [==============================] - 5s 21us/step - loss: 0.4194 - acc: 0.7206 - val_loss: 0.4166 - val_acc: 0.7221\n",
      "Epoch 63/100\n",
      "232947/232947 [==============================] - 5s 23us/step - loss: 0.4194 - acc: 0.7205 - val_loss: 0.4164 - val_acc: 0.7226\n",
      "Epoch 64/100\n",
      "232947/232947 [==============================] - 5s 21us/step - loss: 0.4194 - acc: 0.7206 - val_loss: 0.4165 - val_acc: 0.7222\n",
      "Epoch 65/100\n",
      "232947/232947 [==============================] - 4s 19us/step - loss: 0.4193 - acc: 0.7210 - val_loss: 0.4166 - val_acc: 0.7212\n",
      "Epoch 66/100\n",
      "232947/232947 [==============================] - 5s 20us/step - loss: 0.4193 - acc: 0.7209 - val_loss: 0.4165 - val_acc: 0.7208\n",
      "Epoch 67/100\n",
      "232947/232947 [==============================] - 7s 29us/step - loss: 0.4193 - acc: 0.7209 - val_loss: 0.4163 - val_acc: 0.7207\n",
      "Epoch 68/100\n",
      "232947/232947 [==============================] - 5s 23us/step - loss: 0.4193 - acc: 0.7210 - val_loss: 0.4163 - val_acc: 0.7206\n",
      "Epoch 69/100\n",
      "232947/232947 [==============================] - 5s 21us/step - loss: 0.4193 - acc: 0.7212 - val_loss: 0.4163 - val_acc: 0.7194\n",
      "Epoch 70/100\n",
      "232947/232947 [==============================] - 5s 21us/step - loss: 0.4193 - acc: 0.7208 - val_loss: 0.4164 - val_acc: 0.7224\n",
      "Epoch 71/100\n",
      "232947/232947 [==============================] - 8s 33us/step - loss: 0.4192 - acc: 0.7206 - val_loss: 0.4163 - val_acc: 0.7232\n",
      "Epoch 72/100\n",
      "232947/232947 [==============================] - 5s 22us/step - loss: 0.4192 - acc: 0.7209 - val_loss: 0.4163 - val_acc: 0.7219\n",
      "Epoch 73/100\n",
      "232947/232947 [==============================] - 6s 25us/step - loss: 0.4192 - acc: 0.7210 - val_loss: 0.4163 - val_acc: 0.7221\n",
      "Epoch 74/100\n",
      "232947/232947 [==============================] - 7s 28us/step - loss: 0.4192 - acc: 0.7208 - val_loss: 0.4163 - val_acc: 0.7232\n",
      "Epoch 75/100\n",
      "232947/232947 [==============================] - 5s 20us/step - loss: 0.4192 - acc: 0.7208 - val_loss: 0.4162 - val_acc: 0.7200\n",
      "Epoch 76/100\n",
      "232947/232947 [==============================] - 5s 20us/step - loss: 0.4192 - acc: 0.7208 - val_loss: 0.4161 - val_acc: 0.7206\n",
      "Epoch 77/100\n",
      "232947/232947 [==============================] - 5s 20us/step - loss: 0.4191 - acc: 0.7210 - val_loss: 0.4165 - val_acc: 0.7197\n",
      "Epoch 78/100\n",
      "232947/232947 [==============================] - 5s 20us/step - loss: 0.4191 - acc: 0.7210 - val_loss: 0.4163 - val_acc: 0.7232\n",
      "Epoch 79/100\n",
      "232947/232947 [==============================] - 5s 20us/step - loss: 0.4191 - acc: 0.7209 - val_loss: 0.4164 - val_acc: 0.7172\n",
      "Epoch 80/100\n",
      "232947/232947 [==============================] - 5s 20us/step - loss: 0.4191 - acc: 0.7208 - val_loss: 0.4162 - val_acc: 0.7218\n",
      "Epoch 81/100\n",
      "232947/232947 [==============================] - 5s 21us/step - loss: 0.4191 - acc: 0.7212 - val_loss: 0.4162 - val_acc: 0.7216\n",
      "Epoch 82/100\n",
      "232947/232947 [==============================] - 5s 21us/step - loss: 0.4190 - acc: 0.7208 - val_loss: 0.4162 - val_acc: 0.7245\n",
      "Epoch 83/100\n",
      "232947/232947 [==============================] - 6s 24us/step - loss: 0.4190 - acc: 0.7210 - val_loss: 0.4162 - val_acc: 0.7194\n",
      "Epoch 84/100\n",
      "232947/232947 [==============================] - 5s 22us/step - loss: 0.4190 - acc: 0.7215 - val_loss: 0.4163 - val_acc: 0.7199\n",
      "Epoch 85/100\n",
      "232947/232947 [==============================] - 5s 20us/step - loss: 0.4190 - acc: 0.7208 - val_loss: 0.4162 - val_acc: 0.7195\n",
      "Epoch 86/100\n",
      "232947/232947 [==============================] - 5s 21us/step - loss: 0.4190 - acc: 0.7208 - val_loss: 0.4160 - val_acc: 0.7222\n",
      "Epoch 87/100\n",
      "232947/232947 [==============================] - 5s 21us/step - loss: 0.4189 - acc: 0.7212 - val_loss: 0.4161 - val_acc: 0.7179\n",
      "Epoch 88/100\n",
      "232947/232947 [==============================] - 5s 20us/step - loss: 0.4190 - acc: 0.7207 - val_loss: 0.4161 - val_acc: 0.7218\n",
      "Epoch 89/100\n",
      "232947/232947 [==============================] - 5s 21us/step - loss: 0.4189 - acc: 0.7208 - val_loss: 0.4160 - val_acc: 0.7264\n",
      "Epoch 90/100\n",
      "232947/232947 [==============================] - 5s 21us/step - loss: 0.4189 - acc: 0.7205 - val_loss: 0.4160 - val_acc: 0.7214\n",
      "Epoch 91/100\n",
      "232947/232947 [==============================] - 5s 22us/step - loss: 0.4189 - acc: 0.7213 - val_loss: 0.4161 - val_acc: 0.7211\n",
      "Epoch 92/100\n",
      "232947/232947 [==============================] - 5s 21us/step - loss: 0.4189 - acc: 0.7209 - val_loss: 0.4159 - val_acc: 0.7211\n",
      "Epoch 93/100\n",
      "232947/232947 [==============================] - 5s 21us/step - loss: 0.4189 - acc: 0.7208 - val_loss: 0.4160 - val_acc: 0.7202\n",
      "Epoch 94/100\n",
      "232947/232947 [==============================] - 5s 21us/step - loss: 0.4188 - acc: 0.7212 - val_loss: 0.4160 - val_acc: 0.7203\n",
      "Epoch 95/100\n",
      "232947/232947 [==============================] - 5s 21us/step - loss: 0.4188 - acc: 0.7209 - val_loss: 0.4160 - val_acc: 0.7204\n",
      "Epoch 96/100\n",
      "232947/232947 [==============================] - 5s 21us/step - loss: 0.4188 - acc: 0.7219 - val_loss: 0.4160 - val_acc: 0.7203\n",
      "Epoch 97/100\n",
      "232947/232947 [==============================] - 5s 20us/step - loss: 0.4188 - acc: 0.7211 - val_loss: 0.4160 - val_acc: 0.7221\n",
      "Epoch 98/100\n",
      "232947/232947 [==============================] - 5s 21us/step - loss: 0.4188 - acc: 0.7209 - val_loss: 0.4159 - val_acc: 0.7195\n",
      "Epoch 99/100\n",
      "232947/232947 [==============================] - 5s 21us/step - loss: 0.4188 - acc: 0.7215 - val_loss: 0.4159 - val_acc: 0.7208\n",
      "Epoch 100/100\n",
      "232947/232947 [==============================] - 5s 21us/step - loss: 0.4188 - acc: 0.7215 - val_loss: 0.4160 - val_acc: 0.7201\n"
     ]
    }
   ],
   "source": [
    "autoencoder.compile(metrics=['accuracy'],\n",
    "                    loss='mean_squared_error',\n",
    "                    optimizer='adam')\n",
    "\n",
    "cp = ModelCheckpoint(filepath=\"autoencoder_fraud.h5\",\n",
    "                               save_best_only=True,\n",
    "                               verbose=0)\n",
    "\n",
    "tb = TensorBoard(log_dir='./logs',\n",
    "                histogram_freq=0,\n",
    "                write_graph=True,\n",
    "                write_images=True)\n",
    "\n",
    "history = autoencoder.fit(X_train, X_train,\n",
    "                    epochs=nb_epoch,\n",
    "                    batch_size=batch_size,\n",
    "                    shuffle=True,\n",
    "                    validation_data=(X_test, X_test),\n",
    "                    verbose=1,\n",
    "                    callbacks=[cp, tb]).history"
   ]
  },
  {
   "cell_type": "code",
   "execution_count": null,
   "metadata": {},
   "outputs": [],
   "source": [
    "# Load saved model\n",
    "autoencoder = load_model('autoencoder_fraud.h5')"
   ]
  },
  {
   "cell_type": "code",
   "execution_count": 77,
   "metadata": {},
   "outputs": [
    {
     "data": {
      "image/png": "[encoded data removed]",
      "text/plain": [
       "<Figure size 432x288 with 1 Axes>"
      ]
     },
     "metadata": {
      "needs_background": "light"
     },
     "output_type": "display_data"
    }
   ],
   "source": [
    "plt.plot(history['loss'], linewidth=2, label='Train')\n",
    "plt.plot(history['val_loss'], linewidth=2, label='Test')\n",
    "plt.legend(loc='upper right')\n",
    "plt.title('Model loss')\n",
    "plt.ylabel('Loss')\n",
    "plt.xlabel('Epoch')\n",
    "#plt.ylim(ymin=0.70,ymax=1)\n",
    "plt.show()"
   ]
  },
  {
   "cell_type": "markdown",
   "metadata": {},
   "source": [
    "Now run the trained model on our entire dataset"
   ]
  },
  {
   "cell_type": "code",
   "execution_count": 78,
   "metadata": {},
   "outputs": [],
   "source": [
    "X_full_predictions = autoencoder.predict(X)\n",
    "mse = np.mean(np.power(X - X_full_predictions, 2), axis=1)"
   ]
  },
  {
   "cell_type": "code",
   "execution_count": 102,
   "metadata": {},
   "outputs": [
    {
     "data": {
      "text/plain": [
       "<function matplotlib.pyplot.show(*args, **kw)>"
      ]
     },
     "execution_count": 102,
     "metadata": {},
     "output_type": "execute_result"
    },
    {
     "data": {
      "image/png": "[encoded data removed]",
      "text/plain": [
       "<Figure size 720x720 with 1 Axes>"
      ]
     },
     "metadata": {
      "needs_background": "light"
     },
     "output_type": "display_data"
    }
   ],
   "source": [
    "plt.figure(figsize=[10,10])\n",
    "plt.scatter(-anomaly_scores[y==0], np.sqrt(mse[y==0]),s=2, label='Class 0')\n",
    "plt.scatter(-anomaly_scores[y==1], np.sqrt(mse[y==1]),s=2, label='Class 1')\n",
    "plt.ylabel('IF anomaly score (negative)')\n",
    "plt.xlabel('Autoencoder MSE (sqrt)')\n",
    "plt.legend()\n",
    "plt.show"
   ]
  },
  {
   "cell_type": "code",
   "execution_count": 99,
   "metadata": {},
   "outputs": [
    {
     "name": "stdout",
     "output_type": "stream",
     "text": [
      "Detected 4446 (of 492) anomalies\n",
      "AUC = \t\t0.954355 \n",
      "sensitivity = \t0.789 \n",
      "specificity = \t0.986\n"
     ]
    }
   ],
   "source": [
    "# Show results\n",
    "thresh = 5 # This affects the sensitivity and specificity but not the main AUC result\n",
    "out_pred = (mse>thresh).astype('int')\n",
    "\n",
    "sensitivity = np.sum(np.logical_and(y==1,out_pred==1))/np.sum(y==1)\n",
    "specificity = np.sum(np.logical_and(y==0,out_pred==0))/np.sum(y==0)\n",
    "auc = sk.metrics.roc_auc_score(y,mse)\n",
    "\n",
    "print('Detected %d (of %d) anomalies' %(np.sum(out_pred), np.sum(y)))\n",
    "print('AUC = \\t\\t%f \\nsensitivity = \\t%.3f \\nspecificity = \\t%.3f' %(auc, sensitivity, specificity))"
   ]
  },
  {
   "cell_type": "markdown",
   "metadata": {},
   "source": [
    "####  AUC improved from 0.948 to 0.954. \n",
    "This is even better than the AUC=0.933 result from the original demonstration using only autoencoder (but with known labels)"
   ]
  },
  {
   "cell_type": "markdown",
   "metadata": {},
   "source": [
    "### Explaining the results:"
   ]
  },
  {
   "cell_type": "markdown",
   "metadata": {},
   "source": [
    "A non-anomalous sample:"
   ]
  },
  {
   "cell_type": "code",
   "execution_count": 153,
   "metadata": {},
   "outputs": [
    {
     "data": {
      "text/plain": [
       "(-0.1, 2)"
      ]
     },
     "execution_count": 153,
     "metadata": {},
     "output_type": "execute_result"
    },
    {
     "data": {
      "image/png": "[encoded data removed]",
      "text/plain": [
       "<Figure size 432x288 with 1 Axes>"
      ]
     },
     "metadata": {
      "needs_background": "light"
     },
     "output_type": "display_data"
    }
   ],
   "source": [
    "i = 130156\n",
    "plt.scatter(X.values[i], X_full_predictions[i])\n",
    "plt.plot([-10, 10], [-10, 10], linestyle='--')\n",
    "plt.xlim(-0.5,2)\n",
    "plt.ylim(-0.1,2)"
   ]
  },
  {
   "cell_type": "markdown",
   "metadata": {},
   "source": [
    "An anomalous sample:"
   ]
  },
  {
   "cell_type": "code",
   "execution_count": 157,
   "metadata": {},
   "outputs": [
    {
     "data": {
      "text/plain": [
       "(-1, 25)"
      ]
     },
     "execution_count": 157,
     "metadata": {},
     "output_type": "execute_result"
    },
    {
     "data": {
      "image/png": "[encoded data removed]",
      "text/plain": [
       "<Figure size 432x288 with 1 Axes>"
      ]
     },
     "metadata": {
      "needs_background": "light"
     },
     "output_type": "display_data"
    }
   ],
   "source": [
    "i = 154684\n",
    "plt.scatter(X.values[i], X_full_predictions[i])\n",
    "plt.plot([-50, 50], [-50, 50], linestyle='--')\n",
    "plt.xlim(-45, 25)\n",
    "plt.ylim(-1, 25)"
   ]
  },
  {
   "cell_type": "markdown",
   "metadata": {},
   "source": [
    "Sort features by model error:"
   ]
  },
  {
   "cell_type": "code",
   "execution_count": 170,
   "metadata": {},
   "outputs": [
    {
     "data": {
      "text/html": [
       "<div>\n",
       "<style scoped>\n",
       "    .dataframe tbody tr th:only-of-type {\n",
       "        vertical-align: middle;\n",
       "    }\n",
       "\n",
       "    .dataframe tbody tr th {\n",
       "        vertical-align: top;\n",
       "    }\n",
       "\n",
       "    .dataframe thead th {\n",
       "        text-align: right;\n",
       "    }\n",
       "</style>\n",
       "<table border=\"1\" class=\"dataframe\">\n",
       "  <thead>\n",
       "    <tr style=\"text-align: right;\">\n",
       "      <th></th>\n",
       "      <th>Feature</th>\n",
       "      <th>Predicted value</th>\n",
       "      <th>Actual value</th>\n",
       "      <th>Error</th>\n",
       "    </tr>\n",
       "  </thead>\n",
       "  <tbody>\n",
       "    <tr>\n",
       "      <th>7</th>\n",
       "      <td>V7</td>\n",
       "      <td>0.000000</td>\n",
       "      <td>-43.557242</td>\n",
       "      <td>1897.233293</td>\n",
       "    </tr>\n",
       "    <tr>\n",
       "      <th>8</th>\n",
       "      <td>V8</td>\n",
       "      <td>0.000000</td>\n",
       "      <td>-41.044261</td>\n",
       "      <td>1684.631355</td>\n",
       "    </tr>\n",
       "    <tr>\n",
       "      <th>1</th>\n",
       "      <td>V1</td>\n",
       "      <td>0.000000</td>\n",
       "      <td>-28.709229</td>\n",
       "      <td>824.219844</td>\n",
       "    </tr>\n",
       "    <tr>\n",
       "      <th>3</th>\n",
       "      <td>V3</td>\n",
       "      <td>0.000000</td>\n",
       "      <td>-27.855811</td>\n",
       "      <td>775.946214</td>\n",
       "    </tr>\n",
       "    <tr>\n",
       "      <th>10</th>\n",
       "      <td>V10</td>\n",
       "      <td>1.337822</td>\n",
       "      <td>-24.588262</td>\n",
       "      <td>672.161834</td>\n",
       "    </tr>\n",
       "    <tr>\n",
       "      <th>21</th>\n",
       "      <td>V21</td>\n",
       "      <td>0.000000</td>\n",
       "      <td>-22.797604</td>\n",
       "      <td>519.730744</td>\n",
       "    </tr>\n",
       "    <tr>\n",
       "      <th>5</th>\n",
       "      <td>V5</td>\n",
       "      <td>0.000000</td>\n",
       "      <td>-18.983813</td>\n",
       "      <td>360.385140</td>\n",
       "    </tr>\n",
       "    <tr>\n",
       "      <th>2</th>\n",
       "      <td>V2</td>\n",
       "      <td>7.848859</td>\n",
       "      <td>22.057729</td>\n",
       "      <td>201.891978</td>\n",
       "    </tr>\n",
       "    <tr>\n",
       "      <th>9</th>\n",
       "      <td>V9</td>\n",
       "      <td>0.000000</td>\n",
       "      <td>-13.320155</td>\n",
       "      <td>177.426521</td>\n",
       "    </tr>\n",
       "    <tr>\n",
       "      <th>17</th>\n",
       "      <td>V17</td>\n",
       "      <td>0.062364</td>\n",
       "      <td>-13.032785</td>\n",
       "      <td>171.482925</td>\n",
       "    </tr>\n",
       "    <tr>\n",
       "      <th>20</th>\n",
       "      <td>V20</td>\n",
       "      <td>0.000000</td>\n",
       "      <td>11.059004</td>\n",
       "      <td>122.301576</td>\n",
       "    </tr>\n",
       "    <tr>\n",
       "      <th>4</th>\n",
       "      <td>V4</td>\n",
       "      <td>2.556688</td>\n",
       "      <td>11.845013</td>\n",
       "      <td>86.272978</td>\n",
       "    </tr>\n",
       "    <tr>\n",
       "      <th>12</th>\n",
       "      <td>V12</td>\n",
       "      <td>0.000000</td>\n",
       "      <td>-9.128341</td>\n",
       "      <td>83.326615</td>\n",
       "    </tr>\n",
       "    <tr>\n",
       "      <th>22</th>\n",
       "      <td>V22</td>\n",
       "      <td>0.000000</td>\n",
       "      <td>8.316275</td>\n",
       "      <td>69.160437</td>\n",
       "    </tr>\n",
       "    <tr>\n",
       "      <th>6</th>\n",
       "      <td>V6</td>\n",
       "      <td>0.000000</td>\n",
       "      <td>6.474115</td>\n",
       "      <td>41.914160</td>\n",
       "    </tr>\n",
       "    <tr>\n",
       "      <th>27</th>\n",
       "      <td>V27</td>\n",
       "      <td>0.671849</td>\n",
       "      <td>-5.682338</td>\n",
       "      <td>40.375691</td>\n",
       "    </tr>\n",
       "    <tr>\n",
       "      <th>18</th>\n",
       "      <td>V18</td>\n",
       "      <td>0.533364</td>\n",
       "      <td>-5.392349</td>\n",
       "      <td>35.114079</td>\n",
       "    </tr>\n",
       "    <tr>\n",
       "      <th>16</th>\n",
       "      <td>V16</td>\n",
       "      <td>0.000000</td>\n",
       "      <td>-5.660366</td>\n",
       "      <td>32.039748</td>\n",
       "    </tr>\n",
       "    <tr>\n",
       "      <th>23</th>\n",
       "      <td>V23</td>\n",
       "      <td>0.000000</td>\n",
       "      <td>5.466230</td>\n",
       "      <td>29.879670</td>\n",
       "    </tr>\n",
       "    <tr>\n",
       "      <th>11</th>\n",
       "      <td>V11</td>\n",
       "      <td>0.000000</td>\n",
       "      <td>3.481952</td>\n",
       "      <td>12.123988</td>\n",
       "    </tr>\n",
       "    <tr>\n",
       "      <th>13</th>\n",
       "      <td>V13</td>\n",
       "      <td>0.000000</td>\n",
       "      <td>-3.008255</td>\n",
       "      <td>9.049601</td>\n",
       "    </tr>\n",
       "    <tr>\n",
       "      <th>15</th>\n",
       "      <td>V15</td>\n",
       "      <td>0.329452</td>\n",
       "      <td>-2.102299</td>\n",
       "      <td>5.913413</td>\n",
       "    </tr>\n",
       "    <tr>\n",
       "      <th>25</th>\n",
       "      <td>V25</td>\n",
       "      <td>0.000000</td>\n",
       "      <td>-1.527145</td>\n",
       "      <td>2.332171</td>\n",
       "    </tr>\n",
       "    <tr>\n",
       "      <th>14</th>\n",
       "      <td>V14</td>\n",
       "      <td>1.911131</td>\n",
       "      <td>0.796580</td>\n",
       "      <td>1.242225</td>\n",
       "    </tr>\n",
       "    <tr>\n",
       "      <th>0</th>\n",
       "      <td>Time</td>\n",
       "      <td>1.066738</td>\n",
       "      <td>0.163370</td>\n",
       "      <td>0.816073</td>\n",
       "    </tr>\n",
       "    <tr>\n",
       "      <th>19</th>\n",
       "      <td>V19</td>\n",
       "      <td>0.000000</td>\n",
       "      <td>-0.901041</td>\n",
       "      <td>0.811875</td>\n",
       "    </tr>\n",
       "    <tr>\n",
       "      <th>28</th>\n",
       "      <td>V28</td>\n",
       "      <td>0.300164</td>\n",
       "      <td>-0.439134</td>\n",
       "      <td>0.546561</td>\n",
       "    </tr>\n",
       "    <tr>\n",
       "      <th>29</th>\n",
       "      <td>Amount</td>\n",
       "      <td>0.000000</td>\n",
       "      <td>-0.353189</td>\n",
       "      <td>0.124743</td>\n",
       "    </tr>\n",
       "    <tr>\n",
       "      <th>26</th>\n",
       "      <td>V26</td>\n",
       "      <td>0.000000</td>\n",
       "      <td>-0.145225</td>\n",
       "      <td>0.021090</td>\n",
       "    </tr>\n",
       "    <tr>\n",
       "      <th>24</th>\n",
       "      <td>V24</td>\n",
       "      <td>0.000000</td>\n",
       "      <td>0.023854</td>\n",
       "      <td>0.000569</td>\n",
       "    </tr>\n",
       "  </tbody>\n",
       "</table>\n",
       "</div>"
      ],
      "text/plain": [
       "   Feature  Predicted value  Actual value        Error\n",
       "7       V7         0.000000    -43.557242  1897.233293\n",
       "8       V8         0.000000    -41.044261  1684.631355\n",
       "1       V1         0.000000    -28.709229   824.219844\n",
       "3       V3         0.000000    -27.855811   775.946214\n",
       "10     V10         1.337822    -24.588262   672.161834\n",
       "21     V21         0.000000    -22.797604   519.730744\n",
       "5       V5         0.000000    -18.983813   360.385140\n",
       "2       V2         7.848859     22.057729   201.891978\n",
       "9       V9         0.000000    -13.320155   177.426521\n",
       "17     V17         0.062364    -13.032785   171.482925\n",
       "20     V20         0.000000     11.059004   122.301576\n",
       "4       V4         2.556688     11.845013    86.272978\n",
       "12     V12         0.000000     -9.128341    83.326615\n",
       "22     V22         0.000000      8.316275    69.160437\n",
       "6       V6         0.000000      6.474115    41.914160\n",
       "27     V27         0.671849     -5.682338    40.375691\n",
       "18     V18         0.533364     -5.392349    35.114079\n",
       "16     V16         0.000000     -5.660366    32.039748\n",
       "23     V23         0.000000      5.466230    29.879670\n",
       "11     V11         0.000000      3.481952    12.123988\n",
       "13     V13         0.000000     -3.008255     9.049601\n",
       "15     V15         0.329452     -2.102299     5.913413\n",
       "25     V25         0.000000     -1.527145     2.332171\n",
       "14     V14         1.911131      0.796580     1.242225\n",
       "0     Time         1.066738      0.163370     0.816073\n",
       "19     V19         0.000000     -0.901041     0.811875\n",
       "28     V28         0.300164     -0.439134     0.546561\n",
       "29  Amount         0.000000     -0.353189     0.124743\n",
       "26     V26         0.000000     -0.145225     0.021090\n",
       "24     V24         0.000000      0.023854     0.000569"
      ]
     },
     "execution_count": 170,
     "metadata": {},
     "output_type": "execute_result"
    }
   ],
   "source": [
    "error_by_column = (X_full_predictions[i] - X.iloc[i].values)**2\n",
    "error_df = pd.DataFrame()\n",
    "error_df['Feature'] = X.columns\n",
    "error_df['Predicted value'] = X_full_predictions[i]\n",
    "error_df['Actual value'] = X.iloc[i].values\n",
    "error_df['Error'] = error_by_column\n",
    "error_df.sort_values('Error', ascending=False)"
   ]
  }
 ],
 "metadata": {
  "kernelspec": {
   "display_name": "Python 3",
   "language": "python",
   "name": "python3"
  },
  "language_info": {
   "codemirror_mode": {
    "name": "ipython",
    "version": 3
   },
   "file_extension": ".py",
   "mimetype": "text/x-python",
   "name": "python",
   "nbconvert_exporter": "python",
   "pygments_lexer": "ipython3",
   "version": "3.7.3"
  }
 },
 "nbformat": 4,
 "nbformat_minor": 2
}
