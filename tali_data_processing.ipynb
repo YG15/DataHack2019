{
  "nbformat": 4,
  "nbformat_minor": 0,
  "metadata": {
    "colab": {
      "name": "yonathan_data_processing.ipynb",
      "version": "0.3.2",
      "provenance": [],
      "collapsed_sections": [],
      "machine_shape": "hm",
      "include_colab_link": true
    },
    "kernelspec": {
      "name": "python3",
      "display_name": "Python 3"
    }
  },
  "cells": [
    {
      "cell_type": "markdown",
      "metadata": {
        "id": "view-in-github",
        "colab_type": "text"
      },
      "source": [
        "<a href=\"https://colab.research.google.com/github/YG15/DataHack2019/blob/master/tali_data_processing.ipynb\" target=\"_parent\"><img src=\"https://colab.research.google.com/assets/colab-badge.svg\" alt=\"Open In Colab\"/></a>"
      ]
    },
    {
      "cell_type": "code",
      "metadata": {
        "id": "MUCQfklQAlhH",
        "colab_type": "code",
        "colab": {}
      },
      "source": [
        "import pandas as pd\n",
        "import numpy as np"
      ],
      "execution_count": 0,
      "outputs": []
    },
    {
      "cell_type": "code",
      "metadata": {
        "id": "yFaxnUkUAwpv",
        "colab_type": "code",
        "outputId": "81e6f50e-fa3f-47dc-a9c1-44d3eaee6eb5",
        "colab": {
          "base_uri": "https://localhost:8080/",
          "height": 208
        }
      },
      "source": [
        "!wget https://raw.githubusercontent.com/YG15/DataHack2019/master/src/functions/get_network_hierarchy.py\n",
        "\n",
        "from get_network_hierarchy import *"
      ],
      "execution_count": 2,
      "outputs": [
        {
          "output_type": "stream",
          "text": [
            "--2019-09-04 18:47:10--  https://raw.githubusercontent.com/YG15/DataHack2019/master/src/functions/get_network_hierarchy.py\n",
            "Resolving raw.githubusercontent.com (raw.githubusercontent.com)... 151.101.0.133, 151.101.64.133, 151.101.128.133, ...\n",
            "Connecting to raw.githubusercontent.com (raw.githubusercontent.com)|151.101.0.133|:443... connected.\n",
            "HTTP request sent, awaiting response... 200 OK\n",
            "Length: 1703 (1.7K) [text/plain]\n",
            "Saving to: ‘get_network_hierarchy.py’\n",
            "\n",
            "get_network_hierarc 100%[===================>]   1.66K  --.-KB/s    in 0s      \n",
            "\n",
            "2019-09-04 18:47:16 (289 MB/s) - ‘get_network_hierarchy.py’ saved [1703/1703]\n",
            "\n"
          ],
          "name": "stdout"
        }
      ]
    },
    {
      "cell_type": "code",
      "metadata": {
        "id": "n7ruULKjSS6u",
        "colab_type": "code",
        "outputId": "9f7d99cf-b51a-45c8-9a77-9f8cfeca57d1",
        "colab": {
          "base_uri": "https://localhost:8080/",
          "height": 202
        }
      },
      "source": [
        "url = 'https://armis-datahack.s3.amazonaws.com/all_devices.csv'\n",
        "devices_df = pd.read_csv(url, index_col = 0)\n",
        "devices_df.head()"
      ],
      "execution_count": 3,
      "outputs": [
        {
          "output_type": "execute_result",
          "data": {
            "text/html": [
              "<div>\n",
              "<style scoped>\n",
              "    .dataframe tbody tr th:only-of-type {\n",
              "        vertical-align: middle;\n",
              "    }\n",
              "\n",
              "    .dataframe tbody tr th {\n",
              "        vertical-align: top;\n",
              "    }\n",
              "\n",
              "    .dataframe thead th {\n",
              "        text-align: right;\n",
              "    }\n",
              "</style>\n",
              "<table border=\"1\" class=\"dataframe\">\n",
              "  <thead>\n",
              "    <tr style=\"text-align: right;\">\n",
              "      <th></th>\n",
              "      <th>network_id</th>\n",
              "      <th>device_id</th>\n",
              "      <th>type</th>\n",
              "      <th>model</th>\n",
              "      <th>manufacturer</th>\n",
              "      <th>operating_system</th>\n",
              "      <th>operating_system_version</th>\n",
              "    </tr>\n",
              "  </thead>\n",
              "  <tbody>\n",
              "    <tr>\n",
              "      <th>113</th>\n",
              "      <td>0</td>\n",
              "      <td>1028623</td>\n",
              "      <td>MOBILE_PHONE</td>\n",
              "      <td>Galaxy S8</td>\n",
              "      <td>Samsung</td>\n",
              "      <td>Android</td>\n",
              "      <td>9</td>\n",
              "    </tr>\n",
              "    <tr>\n",
              "      <th>587</th>\n",
              "      <td>0</td>\n",
              "      <td>48047</td>\n",
              "      <td>MOBILE_PHONE</td>\n",
              "      <td>Galaxy Note 8</td>\n",
              "      <td>Samsung</td>\n",
              "      <td>Android</td>\n",
              "      <td>9</td>\n",
              "    </tr>\n",
              "    <tr>\n",
              "      <th>668</th>\n",
              "      <td>0</td>\n",
              "      <td>123568</td>\n",
              "      <td>MOBILE_PHONE</td>\n",
              "      <td>H918</td>\n",
              "      <td>LG Electronics</td>\n",
              "      <td>Android</td>\n",
              "      <td>8.0.0</td>\n",
              "    </tr>\n",
              "    <tr>\n",
              "      <th>830</th>\n",
              "      <td>0</td>\n",
              "      <td>95366</td>\n",
              "      <td>MOBILE_PHONE</td>\n",
              "      <td>iPhone 6</td>\n",
              "      <td>Apple, Inc.</td>\n",
              "      <td>iOS</td>\n",
              "      <td>NaN</td>\n",
              "    </tr>\n",
              "    <tr>\n",
              "      <th>886</th>\n",
              "      <td>0</td>\n",
              "      <td>1755023</td>\n",
              "      <td>TABLET</td>\n",
              "      <td>iPad</td>\n",
              "      <td>Apple</td>\n",
              "      <td>iOS</td>\n",
              "      <td>NaN</td>\n",
              "    </tr>\n",
              "  </tbody>\n",
              "</table>\n",
              "</div>"
            ],
            "text/plain": [
              "     network_id  device_id  ... operating_system operating_system_version\n",
              "113           0    1028623  ...          Android                        9\n",
              "587           0      48047  ...          Android                        9\n",
              "668           0     123568  ...          Android                    8.0.0\n",
              "830           0      95366  ...              iOS                      NaN\n",
              "886           0    1755023  ...              iOS                      NaN\n",
              "\n",
              "[5 rows x 7 columns]"
            ]
          },
          "metadata": {
            "tags": []
          },
          "execution_count": 3
        }
      ]
    },
    {
      "cell_type": "code",
      "metadata": {
        "id": "7YkEPqC-Anek",
        "colab_type": "code",
        "colab": {}
      },
      "source": [
        "url = 'https://armis-datahack.s3.amazonaws.com/all_sessions.csv'\n",
        "df = pd.read_csv(url)\n",
        "df.head()"
      ],
      "execution_count": 0,
      "outputs": []
    },
    {
      "cell_type": "code",
      "metadata": {
        "id": "N25Ym_KkEQi1",
        "colab_type": "code",
        "colab": {}
      },
      "source": [
        "#df_processed = get_network_hierarchy(df)"
      ],
      "execution_count": 0,
      "outputs": []
    },
    {
      "cell_type": "code",
      "metadata": {
        "id": "2rnl-fUsPPZb",
        "colab_type": "code",
        "colab": {}
      },
      "source": [
        "df_gb = df.groupby(['device_id'],as_index=False).agg({'host':'nunique',\n",
        "                                                      'packets_count':'mean',\n",
        "                                                      'packet_loss':'max',\n",
        "                                                      'session_count':'mean'})"
      ],
      "execution_count": 0,
      "outputs": []
    },
    {
      "cell_type": "code",
      "metadata": {
        "id": "sLg30VdZPPj3",
        "colab_type": "code",
        "outputId": "306680bf-2561-46f5-fab0-cc1c2d946d58",
        "colab": {
          "base_uri": "https://localhost:8080/",
          "height": 34
        }
      },
      "source": [
        "df_gb.shape"
      ],
      "execution_count": 0,
      "outputs": [
        {
          "output_type": "execute_result",
          "data": {
            "text/plain": [
              "(71484, 5)"
            ]
          },
          "metadata": {
            "tags": []
          },
          "execution_count": 9
        }
      ]
    },
    {
      "cell_type": "code",
      "metadata": {
        "id": "JWMD6WYiSlh6",
        "colab_type": "code",
        "outputId": "6cee2506-ecae-4420-d15e-2ac977a63312",
        "colab": {
          "base_uri": "https://localhost:8080/",
          "height": 360
        }
      },
      "source": [
        "final_df = pd.merge(df_gb, devices_df, how = 'left', on='device_id')\n",
        "final_df.head()"
      ],
      "execution_count": 0,
      "outputs": [
        {
          "output_type": "execute_result",
          "data": {
            "text/html": [
              "<div>\n",
              "<style scoped>\n",
              "    .dataframe tbody tr th:only-of-type {\n",
              "        vertical-align: middle;\n",
              "    }\n",
              "\n",
              "    .dataframe tbody tr th {\n",
              "        vertical-align: top;\n",
              "    }\n",
              "\n",
              "    .dataframe thead th {\n",
              "        text-align: right;\n",
              "    }\n",
              "</style>\n",
              "<table border=\"1\" class=\"dataframe\">\n",
              "  <thead>\n",
              "    <tr style=\"text-align: right;\">\n",
              "      <th></th>\n",
              "      <th>device_id</th>\n",
              "      <th>host</th>\n",
              "      <th>packets_count</th>\n",
              "      <th>packet_loss</th>\n",
              "      <th>session_count</th>\n",
              "      <th>network_id</th>\n",
              "      <th>type</th>\n",
              "      <th>model</th>\n",
              "      <th>manufacturer</th>\n",
              "      <th>operating_system</th>\n",
              "      <th>operating_system_version</th>\n",
              "    </tr>\n",
              "  </thead>\n",
              "  <tbody>\n",
              "    <tr>\n",
              "      <td>0</td>\n",
              "      <td>13</td>\n",
              "      <td>33</td>\n",
              "      <td>378.256410</td>\n",
              "      <td>0.344403</td>\n",
              "      <td>3.205128</td>\n",
              "      <td>2</td>\n",
              "      <td>MOBILE_PHONE</td>\n",
              "      <td>iPhone XR</td>\n",
              "      <td>Apple, Inc.</td>\n",
              "      <td>iOS</td>\n",
              "      <td>12.3.1</td>\n",
              "    </tr>\n",
              "    <tr>\n",
              "      <td>1</td>\n",
              "      <td>20</td>\n",
              "      <td>139</td>\n",
              "      <td>75.306402</td>\n",
              "      <td>0.711570</td>\n",
              "      <td>1.789634</td>\n",
              "      <td>2</td>\n",
              "      <td>MOBILE_PHONE</td>\n",
              "      <td>iPhone 5c</td>\n",
              "      <td>Apple</td>\n",
              "      <td>iOS</td>\n",
              "      <td>10.3.3</td>\n",
              "    </tr>\n",
              "    <tr>\n",
              "      <td>2</td>\n",
              "      <td>24</td>\n",
              "      <td>6</td>\n",
              "      <td>272.071429</td>\n",
              "      <td>0.635197</td>\n",
              "      <td>1.214286</td>\n",
              "      <td>3</td>\n",
              "      <td>PRINTER</td>\n",
              "      <td>NaN</td>\n",
              "      <td>Hewlett Packard</td>\n",
              "      <td>HP ETHERNET MULTI-ENVIRONMENT</td>\n",
              "      <td>NaN</td>\n",
              "    </tr>\n",
              "    <tr>\n",
              "      <td>3</td>\n",
              "      <td>31</td>\n",
              "      <td>3</td>\n",
              "      <td>9.500000</td>\n",
              "      <td>0.427679</td>\n",
              "      <td>1.250000</td>\n",
              "      <td>3</td>\n",
              "      <td>PRINTER</td>\n",
              "      <td>NaN</td>\n",
              "      <td>Hewlett Packard</td>\n",
              "      <td>HP ETHERNET MULTI-ENVIRONMENT</td>\n",
              "      <td>NaN</td>\n",
              "    </tr>\n",
              "    <tr>\n",
              "      <td>4</td>\n",
              "      <td>32</td>\n",
              "      <td>5</td>\n",
              "      <td>417.300000</td>\n",
              "      <td>0.219000</td>\n",
              "      <td>1.300000</td>\n",
              "      <td>3</td>\n",
              "      <td>PRINTER</td>\n",
              "      <td>NaN</td>\n",
              "      <td>Hewlett Packard</td>\n",
              "      <td>HP ETHERNET MULTI-ENVIRONMENT</td>\n",
              "      <td>NaN</td>\n",
              "    </tr>\n",
              "  </tbody>\n",
              "</table>\n",
              "</div>"
            ],
            "text/plain": [
              "   device_id  host  ...               operating_system  operating_system_version\n",
              "0         13    33  ...                            iOS                    12.3.1\n",
              "1         20   139  ...                            iOS                    10.3.3\n",
              "2         24     6  ...  HP ETHERNET MULTI-ENVIRONMENT                       NaN\n",
              "3         31     3  ...  HP ETHERNET MULTI-ENVIRONMENT                       NaN\n",
              "4         32     5  ...  HP ETHERNET MULTI-ENVIRONMENT                       NaN\n",
              "\n",
              "[5 rows x 11 columns]"
            ]
          },
          "metadata": {
            "tags": []
          },
          "execution_count": 10
        }
      ]
    },
    {
      "cell_type": "code",
      "metadata": {
        "id": "qT10fK8zTmIl",
        "colab_type": "code",
        "colab": {}
      },
      "source": [
        "\n",
        "final_df[['device_id', 'host', 'packets_count', 'session_count', 'network_id', 'type']].to_csv('features_v1.csv')"
      ],
      "execution_count": 0,
      "outputs": []
    },
    {
      "cell_type": "code",
      "metadata": {
        "id": "9Fey0EkwQxDu",
        "colab_type": "code",
        "colab": {}
      },
      "source": [
        "from google.colab import files\n",
        "files.download(\"features_v1.csv\")"
      ],
      "execution_count": 0,
      "outputs": []
    },
    {
      "cell_type": "code",
      "metadata": {
        "id": "lvR8KbNXZ7F8",
        "colab_type": "code",
        "colab": {}
      },
      "source": [
        ""
      ],
      "execution_count": 0,
      "outputs": []
    }
  ]
}