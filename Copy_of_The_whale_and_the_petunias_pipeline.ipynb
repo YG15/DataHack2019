{
  "nbformat": 4,
  "nbformat_minor": 0,
  "metadata": {
    "colab": {
      "name": "Copy of The_whale_and_the_petunias_pipeline.ipynb",
      "version": "0.3.2",
      "provenance": [],
      "collapsed_sections": [],
      "machine_shape": "hm",
      "include_colab_link": true
    },
    "kernelspec": {
      "name": "python3",
      "display_name": "Python 3"
    }
  },
  "cells": [
    {
      "cell_type": "markdown",
      "metadata": {
        "id": "view-in-github",
        "colab_type": "text"
      },
      "source": [
        "<a href=\"https://colab.research.google.com/github/YG15/DataHack2019/blob/master/Copy_of_The_whale_and_the_petunias_pipeline.ipynb\" target=\"_parent\"><img src=\"https://colab.research.google.com/assets/colab-badge.svg\" alt=\"Open In Colab\"/></a>"
      ]
    },
    {
      "cell_type": "code",
      "metadata": {
        "id": "MUCQfklQAlhH",
        "colab_type": "code",
        "outputId": "7e588e9e-ec31-44e7-fd30-c7a26fcfcce8",
        "colab": {
          "base_uri": "https://localhost:8080/",
          "height": 34
        }
      },
      "source": [
        "# import basic packages\n",
        "import pandas as pd\n",
        "import numpy as np\n",
        "import json\n",
        "from urllib import request\n",
        "import random\n",
        "from sklearn.ensemble import IsolationForest\n",
        "\n",
        "from google.colab import files\n",
        "from google.colab import drive\n",
        "drive.mount('/content/drive')"
      ],
      "execution_count": 0,
      "outputs": [
        {
          "output_type": "stream",
          "text": [
            "Drive already mounted at /content/drive; to attempt to forcibly remount, call drive.mount(\"/content/drive\", force_remount=True).\n"
          ],
          "name": "stdout"
        }
      ]
    },
    {
      "cell_type": "code",
      "metadata": {
        "id": "qt46EOMBDaYe",
        "colab_type": "code",
        "colab": {}
      },
      "source": [
        "# Functions for categorical to dummy variables transformation\n",
        "def diff_list(li1, li2): \n",
        "    return (list(set(li1) - set(li2))) \n",
        "\n",
        "def get_categ_col_dummy (df):    \n",
        "    numerical_columns = df.describe().columns\n",
        "    categorical_cols=diff_list(df.columns,numerical_columns)\n",
        "    \n",
        "    categorial = df[categorical_cols]\n",
        "    #to prevent case-sensitive separation to different categories:\n",
        "    categorial=categorial.apply(lambda x: x.str.lower(), axis=1)\n",
        "    categorial_dummies = pd.get_dummies(categorial)\n",
        "    df.drop(columns=categorical_cols, inplace=True)\n",
        "    df=df.join(categorial_dummies)\n",
        "    return df"
      ],
      "execution_count": 0,
      "outputs": []
    },
    {
      "cell_type": "code",
      "metadata": {
        "id": "n7ruULKjSS6u",
        "colab_type": "code",
        "colab": {}
      },
      "source": [
        "# Upload device csv from s3\n",
        "url = 'https://armis-datahack.s3.amazonaws.com/all_devices.csv'\n",
        "devices_df = pd.read_csv(url, index_col = 0)\n",
        "devices_df.head()"
      ],
      "execution_count": 0,
      "outputs": []
    },
    {
      "cell_type": "code",
      "metadata": {
        "id": "pt39ytu5YFV4",
        "colab_type": "code",
        "colab": {}
      },
      "source": [
        "# Remove categorical features with very high number of classes and turn to dummy the rest\n",
        "keep_os = ['Android', 'iOS', 'Mac OS X', 'Windows', 'watchOS', 'Watch OS', 'Tizen', 'Symbian', 'Miui OS', 'Linux',\n",
        "       'Axis Firmware', 'Firefox OS', 'Cisco IOS-XE', 'Cisco IOS', 'Debian', 'Link-OS', 'Cisco NX-OS']\n",
        "devices_df['operating_system'] = [ val if val in keep_os else 'OTHER' for val in devices_df.operating_system]\n",
        "devices_df.drop(columns =['operating_system_version','model','manufacturer'], inplace=True)\n",
        "devices_df = get_categ_col_dummy(devices_df)\n",
        "devices_df.head()"
      ],
      "execution_count": 0,
      "outputs": []
    },
    {
      "cell_type": "code",
      "metadata": {
        "id": "eCcV3b8dt3T0",
        "colab_type": "code",
        "colab": {}
      },
      "source": [
        "# Upload sessions csv from s3\n",
        "url = 'https://armis-datahack.s3.amazonaws.com/all_sessions.csv'\n",
        "sessions_df = pd.read_csv(url)\n",
        "sessions_df['real_device'] = [float(str(id)+'.'+str(net)) for id,net in zip (sessions_df.device_id,sessions_df.network_id)]\n",
        "sessions_df.drop(columns =['device_id'], inplace=True)\n",
        "sessions_df.head()"
      ],
      "execution_count": 0,
      "outputs": []
    },
    {
      "cell_type": "code",
      "metadata": {
        "colab_type": "code",
        "id": "C3-ztB4U2ADa",
        "colab": {}
      },
      "source": [
        "# log transformation for relevant numerical features\n",
        "numeric_col = ['packets_count','outbound_bytes_count', 'inbound_bytes_count', \n",
        "               'packet_loss','retransmit_count', 'latency', 'session_count',\n",
        "               'outbound_packets_count', 'inbound_packets_count', 'outbound_bytes_max',\n",
        "               'outbound_bytes_min', 'outbound_bytes_mean', 'outbound_bytes_median',\n",
        "               'outbound_bytes_stddev', 'inbound_bytes_max', 'inbound_bytes_min',\n",
        "               'inbound_bytes_mean', 'inbound_bytes_median', 'inbound_bytes_stddev',\n",
        "               'outbound_packet_size_max', 'outbound_packet_size_min',\n",
        "               'outbound_packet_size_mean', 'outbound_packet_size_median',\n",
        "               'outbound_packet_size_stddev', 'inbound_packet_size_max',\n",
        "               'inbound_packet_size_min', 'inbound_packet_size_mean',\n",
        "               'inbound_packet_size_median', 'inbound_packet_size_stddev']\n",
        "for c in numeric_col:\n",
        "  if sessions_df[c].dtype !='object':\n",
        "    sessions_df[c] = np.log10(sessions_df[c]+1)\n",
        "sessions_df.head()"
      ],
      "execution_count": 0,
      "outputs": []
    },
    {
      "cell_type": "code",
      "metadata": {
        "id": "2rnl-fUsPPZb",
        "colab_type": "code",
        "colab": {}
      },
      "source": [
        "# groupby based on device_id/network using different metric/stats for the various featurs\n",
        "\n",
        "def range_list(val_list):\n",
        "    # calculates the range between the max and min values of a feature\n",
        "    min_val = min(val_list)\n",
        "    max_val = max(val_list)\n",
        "\n",
        "    return (max_val-min_val)\n",
        "  \n",
        "classic_functions = [np.nanmin,np.nanmax,np.nanmean,np.nanstd, np.nanmedian]\n",
        "\n",
        "df_gb = sessions_df.groupby(['network_id','device_id'],as_index=False).agg({'host':'nunique',\n",
        "                                                      'host_ip':'nunique',\n",
        "                                                      'port_dst':'nunique',\n",
        "                                                      'timestamp':['nunique','count',('range', lambda x: range_list(x))],\n",
        "                                                      'transport_protocol':'nunique',\n",
        "                                                      'packets_count':classic_functions,\n",
        "                                                      'outbound_bytes_count':classic_functions, \n",
        "                                                      'inbound_bytes_count':classic_functions, \n",
        "                                                      'packet_loss':classic_functions,\n",
        "                                                      'retransmit_count':classic_functions, \n",
        "                                                      'latency':classic_functions, \n",
        "                                                      'session_count':classic_functions,\n",
        "                                                      'outbound_packets_count':classic_functions, \n",
        "                                                      'inbound_packets_count':classic_functions, \n",
        "                                                      'outbound_bytes_max':classic_functions,\n",
        "                                                      'outbound_bytes_min':classic_functions, \n",
        "                                                      'outbound_bytes_mean':classic_functions, \n",
        "                                                      'outbound_bytes_median':classic_functions,\n",
        "                                                      'outbound_bytes_stddev':classic_functions, \n",
        "                                                      'inbound_bytes_max':classic_functions, \n",
        "                                                      'inbound_bytes_min':classic_functions,\n",
        "                                                      'inbound_bytes_mean':classic_functions, \n",
        "                                                      'inbound_bytes_median':classic_functions, \n",
        "                                                      'inbound_bytes_stddev':classic_functions,\n",
        "                                                      'outbound_packet_size_max':classic_functions, \n",
        "                                                      'outbound_packet_size_min':classic_functions,\n",
        "                                                      'outbound_packet_size_mean':classic_functions, \n",
        "                                                      'outbound_packet_size_median':classic_functions,\n",
        "                                                      'outbound_packet_size_stddev':classic_functions, \n",
        "                                                      'inbound_packet_size_max':classic_functions,\n",
        "                                                      'inbound_packet_size_min':classic_functions, \n",
        "                                                      'inbound_packet_size_mean':classic_functions,\n",
        "                                                      'inbound_packet_size_median':classic_functions, \n",
        "                                                      'inbound_packet_size_stddev':classic_functions})\n",
        "\n",
        "# Flaten columns indices\n",
        "df_gb.columns = [\"\".join(x) for x in df_gb.columns.ravel()]"
      ],
      "execution_count": 0,
      "outputs": []
    },
    {
      "cell_type": "code",
      "metadata": {
        "id": "CmTShnGlL8R5",
        "colab_type": "code",
        "colab": {}
      },
      "source": [
        "# Examine most varied features\n",
        "variety_df = pd.DataFrame(columns=['feature', 'max','min','std'],)\n",
        "for i,c in enumerate(df_gb.columns):\n",
        "  df2 =pd.DataFrame({'feature':c,'max':df_gb[c].max(),'min': df_gb[c].min(),'std':df_gb[c].std()}, index=[0])\n",
        "  variety_df = variety_df.append(df2, ignore_index=True)\n",
        "\n",
        "variety_df.sort_values('std', ascending=False)['feature'].values"
      ],
      "execution_count": 0,
      "outputs": []
    },
    {
      "cell_type": "code",
      "metadata": {
        "id": "tbKAIHeGlkAG",
        "colab_type": "code",
        "outputId": "61a24fb4-c661-46f3-96e5-b7cf060552c3",
        "colab": {
          "base_uri": "https://localhost:8080/",
          "height": 34
        }
      },
      "source": [
        "# merge device and grouby data frames\n",
        "final_df = pd.merge(devices_df, df_gb, how = 'right', on=['network_id','device_id'])\n",
        "print(devices_df.shape, df_gb.shape, final_df.shape)"
      ],
      "execution_count": 0,
      "outputs": [
        {
          "output_type": "stream",
          "text": [
            "(76261, 27) (76038, 154) (76038, 179)\n"
          ],
          "name": "stdout"
        }
      ]
    },
    {
      "cell_type": "code",
      "metadata": {
        "id": "lvR8KbNXZ7F8",
        "colab_type": "code",
        "colab": {}
      },
      "source": [
        "# save to folder\n",
        "df_gb.to_csv('only_session_Features_no_log.csv')\n",
        "!cp only_session_Features_no_log.csv drive/My\\ Drive/"
      ],
      "execution_count": 0,
      "outputs": []
    },
    {
      "cell_type": "code",
      "metadata": {
        "id": "kBzj_Eon5IvF",
        "colab_type": "code",
        "colab": {}
      },
      "source": [
        "# Isolation forest model function\n",
        "def run_IF(df):\n",
        "    model = IsolationForest(behaviour = 'new', max_samples=100, \n",
        "                          random_state = 1, contamination = 0)\n",
        "    model.fit(df)\n",
        "    anomaly_scores = model.decision_function(df)\n",
        "    \n",
        "    return anomaly_scores"
      ],
      "execution_count": 0,
      "outputs": []
    },
    {
      "cell_type": "code",
      "metadata": {
        "id": "p0r4xFSkVQ2F",
        "colab_type": "code",
        "colab": {}
      },
      "source": [
        "# Train model on selected features\n",
        "df_features = df_gb[['device_id', 'network_id', 'outbound_packets_countnanmean',\n",
        "       'packets_countnanmin',    'inbound_packets_countnanstd', \n",
        "        'timestampcount', 'inbound_packets_countnanmin',\n",
        "       'outbound_packet_size_maxnanmax','retransmit_countnanmean',\n",
        "       'latencynanmin', 'retransmit_countnanmedian', 'host_ipnunique',\n",
        "       'latencynanmax', 'hostnunique',]].dropna(axis= 1)\n",
        "\n",
        "X = df_features.copy()\n",
        "X.drop(['device_id'], inplace=True, axis=1)\n",
        "\n",
        "# Run model\n",
        "anomaly_scores = run_IF(X)\n",
        "anomaly_scores = -anomaly_scores\n",
        "\n",
        "# Save results\n",
        "results = pd.DataFrame({'network_id' : df_features.network_id, 'device_id' : df_features.device_id,'confidence' : anomaly_scores})"
      ],
      "execution_count": 0,
      "outputs": []
    },
    {
      "cell_type": "code",
      "metadata": {
        "id": "_AEhl2AMozwz",
        "colab_type": "code",
        "outputId": "f156fbda-e608-47ab-b284-f40a6499f02f",
        "colab": {
          "base_uri": "https://localhost:8080/",
          "height": 221
        }
      },
      "source": [
        "display(results.head())\n",
        "print(results.shape)"
      ],
      "execution_count": 0,
      "outputs": [
        {
          "output_type": "display_data",
          "data": {
            "text/html": [
              "<div>\n",
              "<style scoped>\n",
              "    .dataframe tbody tr th:only-of-type {\n",
              "        vertical-align: middle;\n",
              "    }\n",
              "\n",
              "    .dataframe tbody tr th {\n",
              "        vertical-align: top;\n",
              "    }\n",
              "\n",
              "    .dataframe thead th {\n",
              "        text-align: right;\n",
              "    }\n",
              "</style>\n",
              "<table border=\"1\" class=\"dataframe\">\n",
              "  <thead>\n",
              "    <tr style=\"text-align: right;\">\n",
              "      <th></th>\n",
              "      <th>network_id</th>\n",
              "      <th>device_id</th>\n",
              "      <th>confidence</th>\n",
              "    </tr>\n",
              "  </thead>\n",
              "  <tbody>\n",
              "    <tr>\n",
              "      <th>0</th>\n",
              "      <td>0</td>\n",
              "      <td>33</td>\n",
              "      <td>-0.429968</td>\n",
              "    </tr>\n",
              "    <tr>\n",
              "      <th>1</th>\n",
              "      <td>0</td>\n",
              "      <td>35</td>\n",
              "      <td>-0.266061</td>\n",
              "    </tr>\n",
              "    <tr>\n",
              "      <th>2</th>\n",
              "      <td>0</td>\n",
              "      <td>40</td>\n",
              "      <td>-0.191984</td>\n",
              "    </tr>\n",
              "    <tr>\n",
              "      <th>3</th>\n",
              "      <td>0</td>\n",
              "      <td>41</td>\n",
              "      <td>-0.429760</td>\n",
              "    </tr>\n",
              "    <tr>\n",
              "      <th>4</th>\n",
              "      <td>0</td>\n",
              "      <td>53</td>\n",
              "      <td>-0.434053</td>\n",
              "    </tr>\n",
              "  </tbody>\n",
              "</table>\n",
              "</div>"
            ],
            "text/plain": [
              "   network_id  device_id  confidence\n",
              "0           0         33   -0.429968\n",
              "1           0         35   -0.266061\n",
              "2           0         40   -0.191984\n",
              "3           0         41   -0.429760\n",
              "4           0         53   -0.434053"
            ]
          },
          "metadata": {
            "tags": []
          }
        },
        {
          "output_type": "stream",
          "text": [
            "(76038, 3)\n"
          ],
          "name": "stdout"
        }
      ]
    },
    {
      "cell_type": "code",
      "metadata": {
        "id": "LqM51L7gm4cK",
        "colab_type": "code",
        "outputId": "961bce5a-1076-4f34-ace6-28edf09fb75c",
        "colab": {
          "base_uri": "https://localhost:8080/",
          "height": 34
        }
      },
      "source": [
        "# Submission\n",
        "\n",
        "arr_to_submit = results.to_json(orient='values')\n",
        "\n",
        "leaderboard_name = \"armis\"\n",
        "host = \"leaderboard.datahack.org.il\"\n",
        "\n",
        "# Name of the user\n",
        "submitter = \"The Whale and the Petunias\"\n",
        "\n",
        "predictions = json.loads(arr_to_submit)\n",
        "\n",
        "jsonStr = json.dumps({'submitter': submitter, 'predictions': predictions})\n",
        "data = jsonStr.encode('utf-8')\n",
        "req = request.Request(f\"https://{host}/{leaderboard_name}/api/\",\n",
        "                      headers={'Content-Type': 'application/json'},\n",
        "                      data=data)\n",
        "resp = request.urlopen(req)\n",
        "print(json.load(resp))"
      ],
      "execution_count": 0,
      "outputs": [
        {
          "output_type": "stream",
          "text": [
            "{'member': 'The Whale and the Petunias_y2', 'rank': 15, 'score': 0.7992275174894156}\n"
          ],
          "name": "stdout"
        }
      ]
    },
    {
      "cell_type": "code",
      "metadata": {
        "id": "DKbEIB2So8M5",
        "colab_type": "code",
        "colab": {}
      },
      "source": [
        ""
      ],
      "execution_count": 0,
      "outputs": []
    }
  ]
}